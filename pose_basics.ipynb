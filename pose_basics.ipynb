{
  "cells": [
    {
      "cell_type": "markdown",
      "metadata": {
        "id": "N7dtvA7YVy2j"
      },
      "source": [
        "Before you turn this problem in, make sure everything runs as expected. First, **restart the kernel** (in the menubar, select Kernel$\\rightarrow$Restart) and then **run all cells** (in the menubar, select Cell$\\rightarrow$Run All).\n",
        "\n",
        "Make sure you fill in any place that says `YOUR CODE HERE` or \"YOUR ANSWER HERE\", as well as your name and collaborators below:"
      ]
    },
    {
      "cell_type": "code",
      "execution_count": 2,
      "metadata": {
        "id": "OU9Uq53jVy2r"
      },
      "outputs": [],
      "source": [
        "NAME = \"Caroline Davis\"\n",
        "COLLABORATORS = \"n/a\""
      ]
    },
    {
      "cell_type": "markdown",
      "metadata": {
        "id": "edLpsOZ4Vy2t"
      },
      "source": [
        "---"
      ]
    },
    {
      "cell_type": "markdown",
      "metadata": {
        "id": "lSsrsVpcVy2u"
      },
      "source": [
        "**Chapter contributors:**\n",
        "\n",
        "- Jason C. Klima (University of Washington; Lyell Immunopharma)\n",
        "- Kathy Le (Johns Hopkins University); parts of this chapter were adapted from the [PyRosetta book](https://www.amazon.com/PyRosetta-Interactive-Platform-Structure-Prediction-ebook/dp/B01N21DRY8) (J. J. Gray, S. Chaudhury, S. Lyskov, J. Labonte).\n",
        "- Jared Adolf-Bryfogle (Scripps; Institute for Protein Innovation)"
      ]
    },
    {
      "cell_type": "markdown",
      "metadata": {
        "id": "knI2SJL0Vy2v"
      },
      "source": [
        "# Pose Basics\n",
        "Keywords: pose_from_pdb(), sequence(), cleanATOM, annotated_sequence()"
      ]
    },
    {
      "cell_type": "markdown",
      "metadata": {
        "id": "fmhjfcjrVy2w"
      },
      "source": [
        "In this lab, we will get practice working with the `Pose` class in PyRosetta. We will load in a protein from a PDB files, use the `Pose` class to learn about the geometry of the protein, make changes to this geometry, and visualize the changes easily with `PyMOL` and PyRosetta's `PyMOLMover`.\n",
        "\n",
        "On the corresponding `Pose` lab found on the PyRosetta website, you will find various useful commands to interrogate poses; these may come in handy for the exercises.\n",
        "\n",
        "**PyRosetta Installation:**\n",
        "The following two lines will load in the PyRosetta library and load in database files. If this does not work, please notify the professor or the TA."
      ]
    },
    {
      "cell_type": "code",
      "execution_count": 3,
      "metadata": {
        "colab": {
          "base_uri": "https://localhost:8080/"
        },
        "id": "e4upSGlnVy2w",
        "outputId": "49bac302-fbf5-4af0-d115-6f05300e011c"
      },
      "outputs": [
        {
          "output_type": "stream",
          "name": "stdout",
          "text": [
            "Collecting pyrosettacolabsetup\n",
            "  Downloading pyrosettacolabsetup-1.0.6-py3-none-any.whl (4.7 kB)\n",
            "Installing collected packages: pyrosettacolabsetup\n",
            "Successfully installed pyrosettacolabsetup-1.0.6\n",
            "Mounted at /content/google_drive\n",
            "Looking for compatible PyRosetta wheel file at google-drive/PyRosetta/colab.bin/wheels...\n",
            "Found compatible wheel: /content/google_drive/MyDrive/PyRosetta/colab.bin/wheels//content/google_drive/MyDrive/PyRosetta/colab.bin/wheels/pyrosetta-2023.21+release.9b3660a8932-cp310-cp310-linux_x86_64.whl\n",
            "\n",
            "\n",
            "PyRosetta-4 2023 [Rosetta PyRosetta4.MinSizeRel.python310.ubuntu 2023.21+release.9b3660a893207250b5c6735d08f5a4dcd45633c5 2023-05-26T08:14:51] retrieved from: http://www.pyrosetta.org\n",
            "(C) Copyright Rosetta Commons Member Institutions. Created in JHU by Sergey Lyskov and PyRosetta Team.\n",
            "core.init: Checking for fconfig files in pwd and ./rosetta/flags\n",
            "core.init: Rosetta version: PyRosetta4.MinSizeRel.python310.ubuntu r350 2023.21+release.9b3660a8932 9b3660a893207250b5c6735d08f5a4dcd45633c5 http://www.pyrosetta.org 2023-05-26T08:14:51\n",
            "core.init: command: PyRosetta -ex1 -ex2aro -database /usr/local/lib/python3.10/dist-packages/pyrosetta/database\n",
            "basic.random.init_random_generator: 'RNG device' seed mode, using '/dev/urandom', seed=-1230286189 seed_offset=0 real_seed=-1230286189\n",
            "basic.random.init_random_generator: RandomGenerator:init: Normal mode, seed=-1230286189 RG_type=mt19937\n"
          ]
        }
      ],
      "source": [
        "import sys\n",
        "if 'google.colab' in sys.modules:\n",
        "  !pip install pyrosettacolabsetup\n",
        "  import pyrosettacolabsetup\n",
        "  pyrosettacolabsetup.mount_pyrosetta_install()\n",
        "from pyrosetta import *\n",
        "init()\n"
      ]
    },
    {
      "cell_type": "markdown",
      "metadata": {
        "id": "pydS76ifVy2w"
      },
      "source": [
        "## Loading in a PDB File ##"
      ]
    },
    {
      "cell_type": "markdown",
      "metadata": {
        "id": "NBDKG6w1Vy2x"
      },
      "source": [
        "Protein Data Bank (PDB) is a text file format for describing 3D molecular structures and other information. Rosetta can read in PDB files and can output them as well. In addition to PDB, mmTF and mmCIF are a couple other file formats that are used with Rosetta.\n",
        "\n",
        "We will spend some time today looking at the crystal structure for the protein **PafA** (PDB ID: 5tj3) using Pyrosetta. PafA is an alkaline phosphatase, which removes a phosphate group from a phosphate monoester. In this structure, a modified amino acid, phosphothreonine, is used to mimic the substrate in the active site. Let's load in this structure with PyRosetta (make sure that you have the PDB file located in your current directory):"
      ]
    },
    {
      "cell_type": "markdown",
      "metadata": {
        "id": "ifYEQrMZVy2x"
      },
      "source": [
        "`!cd google_drive/MyDrive/name_of_your_dir/`\n",
        "\n",
        "\n",
        "`pose = pose_from_file(\"inputs/5tj3.pdb\")`\n",
        "\n",
        "\n",
        "\n",
        "Here we are inputting the PDB file using the `pose_from_file` method. Sometimes google drive is very slow to get to from Colaboratory, in which case this call can seem to hang for several minutes. Yikes! However, we can also load this structure from the internet with `pose_from_rcsb(\"5TJ3\")`."
      ]
    },
    {
      "cell_type": "code",
      "execution_count": 4,
      "metadata": {
        "id": "TnSR2XvAVy2y"
      },
      "outputs": [],
      "source": [
        "# first navigate to the directory where you've placed the notebooks; the directory containing the \"inputs\" directory\n",
        "# so \"cd\" into this directory\n",
        "# this has to be in its own cell"
      ]
    },
    {
      "cell_type": "code",
      "source": [
        "!cd google_drive/MyDrive/ramp2023/\n",
        "!ls"
      ],
      "metadata": {
        "colab": {
          "base_uri": "https://localhost:8080/"
        },
        "id": "Snmo9Qq0_CCp",
        "outputId": "9b5167ef-2b66-4831-c9ef-d488410aab13"
      },
      "execution_count": 5,
      "outputs": [
        {
          "output_type": "stream",
          "name": "stdout",
          "text": [
            "google_drive  sample_data\n"
          ]
        }
      ]
    },
    {
      "cell_type": "code",
      "execution_count": 6,
      "metadata": {
        "deletable": false,
        "id": "61XTq0loVy2y",
        "nbgrader": {
          "cell_type": "code",
          "checksum": "9f72072ec371043dd2bb19b184006c02",
          "grade": true,
          "grade_id": "cell-690a147764ad96d7",
          "locked": false,
          "points": 0,
          "schema_version": 3,
          "solution": true
        },
        "colab": {
          "base_uri": "https://localhost:8080/"
        },
        "outputId": "5cf9cd6f-b573-450c-b51e-a8a0d358b6a6"
      },
      "outputs": [
        {
          "output_type": "stream",
          "name": "stdout",
          "text": [
            "core.chemical.GlobalResidueTypeSet: Finished initializing fa_standard residue type set.  Created 985 residue types\n",
            "core.chemical.GlobalResidueTypeSet: Total time to initialize 1.56658 seconds.\n",
            "core.import_pose.import_pose: File '5TJ3.clean.pdb' automatically determined to be of type PDB\n",
            "core.conformation.Conformation: [ WARNING ] missing heavyatom:  CG  on residue LYS 232\n",
            "core.conformation.Conformation: [ WARNING ] missing heavyatom:  CD  on residue LYS 232\n",
            "core.conformation.Conformation: [ WARNING ] missing heavyatom:  CE  on residue LYS 232\n",
            "core.conformation.Conformation: [ WARNING ] missing heavyatom:  NZ  on residue LYS 232\n",
            "core.conformation.Conformation: [ WARNING ] missing heavyatom:  CG  on residue ASP 349\n",
            "core.conformation.Conformation: [ WARNING ] missing heavyatom:  OD1 on residue ASP 349\n",
            "core.conformation.Conformation: [ WARNING ] missing heavyatom:  OD2 on residue ASP 349\n",
            "core.conformation.Conformation: [ WARNING ] missing heavyatom:  CG  on residue LYS 352\n",
            "core.conformation.Conformation: [ WARNING ] missing heavyatom:  CD  on residue LYS 352\n",
            "core.conformation.Conformation: [ WARNING ] missing heavyatom:  CE  on residue LYS 352\n",
            "core.conformation.Conformation: [ WARNING ] missing heavyatom:  NZ  on residue LYS 352\n",
            "core.conformation.Conformation: [ WARNING ] missing heavyatom:  CG  on residue GLU 353\n",
            "core.conformation.Conformation: [ WARNING ] missing heavyatom:  CD  on residue GLU 353\n",
            "core.conformation.Conformation: [ WARNING ] missing heavyatom:  OE1 on residue GLU 353\n",
            "core.conformation.Conformation: [ WARNING ] missing heavyatom:  OE2 on residue GLU 353\n",
            "core.conformation.Conformation: [ WARNING ] missing heavyatom:  CG  on residue LYS 381\n",
            "core.conformation.Conformation: [ WARNING ] missing heavyatom:  CD  on residue LYS 381\n",
            "core.conformation.Conformation: [ WARNING ] missing heavyatom:  CE  on residue LYS 381\n",
            "core.conformation.Conformation: [ WARNING ] missing heavyatom:  NZ  on residue LYS 381\n",
            "core.conformation.Conformation: [ WARNING ] missing heavyatom:  CG  on residue TYR 453\n",
            "core.conformation.Conformation: [ WARNING ] missing heavyatom:  CD1 on residue TYR 453\n",
            "core.conformation.Conformation: [ WARNING ] missing heavyatom:  CD2 on residue TYR 453\n",
            "core.conformation.Conformation: [ WARNING ] missing heavyatom:  CE1 on residue TYR 453\n",
            "core.conformation.Conformation: [ WARNING ] missing heavyatom:  CE2 on residue TYR 453\n",
            "core.conformation.Conformation: [ WARNING ] missing heavyatom:  CZ  on residue TYR 453\n",
            "core.conformation.Conformation: [ WARNING ] missing heavyatom:  OH  on residue TYR 453\n",
            "core.conformation.Conformation: [ WARNING ] missing heavyatom:  OXT on residue GLY:CtermProteinFull 519\n",
            "core.pack.pack_missing_sidechains: packing residue number 232 because of missing atom number 6 atom name  CG\n",
            "core.pack.pack_missing_sidechains: packing residue number 349 because of missing atom number 6 atom name  CG\n",
            "core.pack.pack_missing_sidechains: packing residue number 352 because of missing atom number 6 atom name  CG\n",
            "core.pack.pack_missing_sidechains: packing residue number 353 because of missing atom number 6 atom name  CG\n",
            "core.pack.pack_missing_sidechains: packing residue number 381 because of missing atom number 6 atom name  CG\n",
            "core.pack.pack_missing_sidechains: packing residue number 453 because of missing atom number 6 atom name  CG\n",
            "core.pack.task: Packer task: initialize from command line()\n",
            "core.scoring.ScoreFunctionFactory: SCOREFUNCTION: ref2015\n",
            "core.scoring.etable: Starting energy table calculation\n",
            "core.scoring.etable: smooth_etable: changing atr/rep split to bottom of energy well\n",
            "core.scoring.etable: smooth_etable: spline smoothing lj etables (maxdis = 6)\n",
            "core.scoring.etable: smooth_etable: spline smoothing solvation etables (max_dis = 6)\n",
            "core.scoring.etable: Finished calculating energy tables.\n",
            "basic.io.database: Database file opened: scoring/score_functions/hbonds/ref2015_params/HBPoly1D.csv\n",
            "basic.io.database: Database file opened: scoring/score_functions/hbonds/ref2015_params/HBFadeIntervals.csv\n",
            "basic.io.database: Database file opened: scoring/score_functions/hbonds/ref2015_params/HBEval.csv\n",
            "basic.io.database: Database file opened: scoring/score_functions/hbonds/ref2015_params/DonStrength.csv\n",
            "basic.io.database: Database file opened: scoring/score_functions/hbonds/ref2015_params/AccStrength.csv\n",
            "basic.io.database: Database file opened: scoring/score_functions/rama/fd/all.ramaProb\n",
            "basic.io.database: Database file opened: scoring/score_functions/rama/fd/prepro.ramaProb\n",
            "basic.io.database: Database file opened: scoring/score_functions/omega/omega_ppdep.all.txt\n",
            "basic.io.database: Database file opened: scoring/score_functions/omega/omega_ppdep.gly.txt\n",
            "basic.io.database: Database file opened: scoring/score_functions/omega/omega_ppdep.pro.txt\n",
            "basic.io.database: Database file opened: scoring/score_functions/omega/omega_ppdep.valile.txt\n",
            "basic.io.database: Database file opened: scoring/score_functions/P_AA_pp/P_AA\n",
            "basic.io.database: Database file opened: scoring/score_functions/P_AA_pp/P_AA_n\n",
            "core.scoring.P_AA: shapovalov_lib::shap_p_aa_pp_smooth_level of 1( aka low_smooth ) got activated.\n",
            "basic.io.database: Database file opened: scoring/score_functions/P_AA_pp/shapovalov/10deg/kappa131/a20.prop\n",
            "basic.io.database: Database file opened: scoring/score_functions/elec_cp_reps.dat\n",
            "core.scoring.elec.util: Read 40 countpair representative atoms\n",
            "core.pack.dunbrack.RotamerLibrary: shapovalov_lib_fixes_enable option is true.\n",
            "core.pack.dunbrack.RotamerLibrary: shapovalov_lib::shap_dun10_smooth_level of 1( aka lowest_smooth ) got activated.\n",
            "core.pack.dunbrack.RotamerLibrary: Binary rotamer library selected: /usr/local/lib/python3.10/dist-packages/pyrosetta/database/rotamer/shapovalov/StpDwn_0-0-0/Dunbrack10.lib.bin\n",
            "core.pack.dunbrack.RotamerLibrary: Using Dunbrack library binary file '/usr/local/lib/python3.10/dist-packages/pyrosetta/database/rotamer/shapovalov/StpDwn_0-0-0/Dunbrack10.lib.bin'.\n",
            "core.pack.dunbrack.RotamerLibrary: Dunbrack 2010 library took 0.670054 seconds to load from binary\n",
            "core.pack.pack_rotamers: built 90 rotamers at 6 positions.\n",
            "core.pack.interaction_graph.interaction_graph_factory: Instantiating DensePDInteractionGraph\n"
          ]
        }
      ],
      "source": [
        "# YOUR CODE HERE\n",
        "pose = pyrosetta.toolbox.pose_from_rcsb(\"5TJ3\")"
      ]
    },
    {
      "cell_type": "markdown",
      "metadata": {
        "id": "oBhE-7UOVy2z"
      },
      "source": [
        "## What is a Pose?"
      ]
    },
    {
      "cell_type": "markdown",
      "metadata": {
        "id": "P1GaTwMzVy2z"
      },
      "source": [
        "The Pose class includes various types of information that describe a structure. Some of the core components include the Energies, PDBInfo, and Conformation. See the Rosetta3 paper to learn more: https://www.sciencedirect.com/science/article/pii/B9780123812704000196\n",
        "\n",
        "As an example, let's use our pose to look at the sequence of 5TJ3:\n",
        "`pose.sequence()`"
      ]
    },
    {
      "cell_type": "code",
      "execution_count": 7,
      "metadata": {
        "deletable": false,
        "id": "TK7sG4hPVy2z",
        "nbgrader": {
          "cell_type": "code",
          "checksum": "c1a8af383ad01ea635153b82575c2c1c",
          "grade": true,
          "grade_id": "cell-61e3c7efb8ae6b94",
          "locked": false,
          "points": 0,
          "schema_version": 3,
          "solution": true
        },
        "colab": {
          "base_uri": "https://localhost:8080/",
          "height": 70
        },
        "outputId": "74e5ad5f-597b-4677-b290-3c6adef73355"
      },
      "outputs": [
        {
          "output_type": "execute_result",
          "data": {
            "text/plain": [
              "'NAVPRPKLVVGLVVDQMRWDYLYRYYSKYGEGGFKRMLNTGYSLNNVHIDYVPTVAIGHTSIFTGSVPSIHGIAGNDWYDKELGKSVYCTSDETVQPVGTTSNSVGQHSPRNLWSTTVTDQLGLATNFTSKVVGVSLKDRASILPAGHNPTGAFWFDDTTGKFITSTYYTKELPKWVNDFNNKNVPAQLVANGWNTLLPINQYTESSEDNVEWEGLLGSKKTPTFPYTDLAKDYEAKKGLIRTTPFGNTLTLQMADAAIDGNQMGVDDITDFLTVNLASTDYVGHNFGPNSIEVEDTYLRLDRDLADFFNNLDKKVGKGNYLVFLSADHGAAHSVGFMQAHKMPTGFFDMKKEMNAKLKQKFGADNIIAAAMNYQVYFDRKVLADSKLELDDVRDYVMTELKKEPSVLYVLSTDEIWESSIPEPIKSRVINGYNWKRSGDIQIISKDGYLSAYSKKGTTHSVWNSYDSHIPLLFMGWGIKQGESNQPYHMTDIAPTVSSLLKIQFPSGAVGKPITEVIG'"
            ],
            "application/vnd.google.colaboratory.intrinsic+json": {
              "type": "string"
            }
          },
          "metadata": {},
          "execution_count": 7
        }
      ],
      "source": [
        "# print out the sequence of the pose\n",
        "pose.sequence()"
      ]
    },
    {
      "cell_type": "markdown",
      "metadata": {
        "id": "cBtPvat-Vy2z"
      },
      "source": [
        "Sometimes PDB files do not conform to standards and need to be cleaned to be loaded successfully with PyRosetta. One way to make sure the file is loaded successfully is to only include the ATOM lines from the PDB file. Alternatively, you could use the cleanATOM function in pyrosetta.toolbox to achieve the same:"
      ]
    },
    {
      "cell_type": "code",
      "execution_count": 8,
      "metadata": {
        "id": "djS8tp9GVy20"
      },
      "outputs": [],
      "source": [
        "from pyrosetta.toolbox import cleanATOM\n",
        "cleanATOM(\"5TJ3.pdb\")"
      ]
    },
    {
      "cell_type": "markdown",
      "metadata": {
        "id": "xDnCZrZeVy20"
      },
      "source": [
        "This method will create a cleaned 5tj3.clean.pdb file for you. Lets load this into PyRosetta as well:"
      ]
    },
    {
      "cell_type": "code",
      "execution_count": 9,
      "metadata": {
        "id": "ohk1EVK-Vy20",
        "colab": {
          "base_uri": "https://localhost:8080/"
        },
        "outputId": "d886fc66-3bd0-4a16-975a-0754e5ab7004"
      },
      "outputs": [
        {
          "output_type": "stream",
          "name": "stdout",
          "text": [
            "core.import_pose.import_pose: File '5TJ3.clean.pdb' automatically determined to be of type PDB\n",
            "core.conformation.Conformation: [ WARNING ] missing heavyatom:  CG  on residue LYS 232\n",
            "core.conformation.Conformation: [ WARNING ] missing heavyatom:  CD  on residue LYS 232\n",
            "core.conformation.Conformation: [ WARNING ] missing heavyatom:  CE  on residue LYS 232\n",
            "core.conformation.Conformation: [ WARNING ] missing heavyatom:  NZ  on residue LYS 232\n",
            "core.conformation.Conformation: [ WARNING ] missing heavyatom:  CG  on residue ASP 349\n",
            "core.conformation.Conformation: [ WARNING ] missing heavyatom:  OD1 on residue ASP 349\n",
            "core.conformation.Conformation: [ WARNING ] missing heavyatom:  OD2 on residue ASP 349\n",
            "core.conformation.Conformation: [ WARNING ] missing heavyatom:  CG  on residue LYS 352\n",
            "core.conformation.Conformation: [ WARNING ] missing heavyatom:  CD  on residue LYS 352\n",
            "core.conformation.Conformation: [ WARNING ] missing heavyatom:  CE  on residue LYS 352\n",
            "core.conformation.Conformation: [ WARNING ] missing heavyatom:  NZ  on residue LYS 352\n",
            "core.conformation.Conformation: [ WARNING ] missing heavyatom:  CG  on residue GLU 353\n",
            "core.conformation.Conformation: [ WARNING ] missing heavyatom:  CD  on residue GLU 353\n",
            "core.conformation.Conformation: [ WARNING ] missing heavyatom:  OE1 on residue GLU 353\n",
            "core.conformation.Conformation: [ WARNING ] missing heavyatom:  OE2 on residue GLU 353\n",
            "core.conformation.Conformation: [ WARNING ] missing heavyatom:  CG  on residue LYS 381\n",
            "core.conformation.Conformation: [ WARNING ] missing heavyatom:  CD  on residue LYS 381\n",
            "core.conformation.Conformation: [ WARNING ] missing heavyatom:  CE  on residue LYS 381\n",
            "core.conformation.Conformation: [ WARNING ] missing heavyatom:  NZ  on residue LYS 381\n",
            "core.conformation.Conformation: [ WARNING ] missing heavyatom:  CG  on residue TYR 453\n",
            "core.conformation.Conformation: [ WARNING ] missing heavyatom:  CD1 on residue TYR 453\n",
            "core.conformation.Conformation: [ WARNING ] missing heavyatom:  CD2 on residue TYR 453\n",
            "core.conformation.Conformation: [ WARNING ] missing heavyatom:  CE1 on residue TYR 453\n",
            "core.conformation.Conformation: [ WARNING ] missing heavyatom:  CE2 on residue TYR 453\n",
            "core.conformation.Conformation: [ WARNING ] missing heavyatom:  CZ  on residue TYR 453\n",
            "core.conformation.Conformation: [ WARNING ] missing heavyatom:  OH  on residue TYR 453\n",
            "core.conformation.Conformation: [ WARNING ] missing heavyatom:  OXT on residue GLY:CtermProteinFull 519\n",
            "core.pack.pack_missing_sidechains: packing residue number 232 because of missing atom number 6 atom name  CG\n",
            "core.pack.pack_missing_sidechains: packing residue number 349 because of missing atom number 6 atom name  CG\n",
            "core.pack.pack_missing_sidechains: packing residue number 352 because of missing atom number 6 atom name  CG\n",
            "core.pack.pack_missing_sidechains: packing residue number 353 because of missing atom number 6 atom name  CG\n",
            "core.pack.pack_missing_sidechains: packing residue number 381 because of missing atom number 6 atom name  CG\n",
            "core.pack.pack_missing_sidechains: packing residue number 453 because of missing atom number 6 atom name  CG\n",
            "core.pack.task: Packer task: initialize from command line()\n",
            "core.scoring.ScoreFunctionFactory: SCOREFUNCTION: ref2015\n",
            "core.pack.pack_rotamers: built 90 rotamers at 6 positions.\n",
            "core.pack.interaction_graph.interaction_graph_factory: Instantiating DensePDInteractionGraph\n"
          ]
        }
      ],
      "source": [
        "pose_clean = pose_from_pdb(\"5TJ3.clean.pdb\")"
      ]
    },
    {
      "cell_type": "markdown",
      "metadata": {
        "id": "hA3Xc9nSVy20"
      },
      "source": [
        "In our case, we could load in the PDB file for 5tj3 without cleaning it. In fact, we've lost some residues when cleaning the PDB file with cleanATOM. What is the difference in the `sequence` of the `pose_clean` now, compared to before?"
      ]
    },
    {
      "cell_type": "code",
      "execution_count": 10,
      "metadata": {
        "deletable": false,
        "id": "3-AuUnfXVy21",
        "nbgrader": {
          "cell_type": "code",
          "checksum": "231cd82955cb98d2285eaad2d1fc5df8",
          "grade": true,
          "grade_id": "cell-57e06ba64f052592",
          "locked": false,
          "points": 0,
          "schema_version": 3,
          "solution": true
        },
        "colab": {
          "base_uri": "https://localhost:8080/",
          "height": 70
        },
        "outputId": "4f44b57b-4f92-492b-b65f-3960cc619c9e"
      },
      "outputs": [
        {
          "output_type": "execute_result",
          "data": {
            "text/plain": [
              "'NAVPRPKLVVGLVVDQMRWDYLYRYYSKYGEGGFKRMLNTGYSLNNVHIDYVPTVAIGHTSIFTGSVPSIHGIAGNDWYDKELGKSVYCTSDETVQPVGTTSNSVGQHSPRNLWSTTVTDQLGLATNFTSKVVGVSLKDRASILPAGHNPTGAFWFDDTTGKFITSTYYTKELPKWVNDFNNKNVPAQLVANGWNTLLPINQYTESSEDNVEWEGLLGSKKTPTFPYTDLAKDYEAKKGLIRTTPFGNTLTLQMADAAIDGNQMGVDDITDFLTVNLASTDYVGHNFGPNSIEVEDTYLRLDRDLADFFNNLDKKVGKGNYLVFLSADHGAAHSVGFMQAHKMPTGFFDMKKEMNAKLKQKFGADNIIAAAMNYQVYFDRKVLADSKLELDDVRDYVMTELKKEPSVLYVLSTDEIWESSIPEPIKSRVINGYNWKRSGDIQIISKDGYLSAYSKKGTTHSVWNSYDSHIPLLFMGWGIKQGESNQPYHMTDIAPTVSSLLKIQFPSGAVGKPITEVIG'"
            ],
            "application/vnd.google.colaboratory.intrinsic+json": {
              "type": "string"
            }
          },
          "metadata": {},
          "execution_count": 10
        }
      ],
      "source": [
        "# print out the sequence of the pose_clean\n",
        "pose_clean.sequence()"
      ]
    },
    {
      "cell_type": "markdown",
      "metadata": {
        "id": "VqoyLs5xVy21"
      },
      "source": [
        "With the function `annotated_sequence` below, we can start to see in more detail what the differences are. Note that non-canonical amino acids and hetatms are spelled out more explicitly now."
      ]
    },
    {
      "cell_type": "code",
      "execution_count": 11,
      "metadata": {
        "id": "q_ALMl-_Vy22",
        "colab": {
          "base_uri": "https://localhost:8080/",
          "height": 70
        },
        "outputId": "4f63c79f-11bb-4757-c978-8e3e8c77dd35"
      },
      "outputs": [
        {
          "output_type": "execute_result",
          "data": {
            "text/plain": [
              "'N[ASN:NtermProteinFull]AVPRPKLVVGLVVDQMRWDYLYRYYSKYGEGGFKRMLNTGYSLNNVHIDYVPTVAIGHTSIFTGSVPSIHGIAGNDWYDKELGKSVYCTSDETVQPVGTTSNSVGQHSPRNLWSTTVTDQLGLATNFTSKVVGVSLKDRASILPAGHNPTGAFWFDDTTGKFITSTYYTKELPKWVNDFNNKNVPAQLVANGWNTLLPINQYTESSEDNVEWEGLLGSKKTPTFPYTDLAKDYEAKKGLIRTTPFGNTLTLQMADAAIDGNQMGVDDITDFLTVNLASTDYVGHNFGPNSIEVEDTYLRLDRDLADFFNNLDKKVGKGNYLVFLSADHGAAHSVGFMQAHKMPTGFFDMKKEMNAKLKQKFGADNIIAAAMNYQVYFDRKVLADSKLELDDVRDYVMTELKKEPSVLYVLSTDEIWESSIPEPIKSRVINGYNWKRSGDIQIISKDGYLSAYSKKGTTHSVWNSYDSHIPLLFMGWGIKQGESNQPYHMTDIAPTVSSLLKIQFPSGAVGKPITEVIG[GLY:CtermProteinFull]'"
            ],
            "application/vnd.google.colaboratory.intrinsic+json": {
              "type": "string"
            }
          },
          "metadata": {},
          "execution_count": 11
        }
      ],
      "source": [
        "pose.annotated_sequence()"
      ]
    },
    {
      "cell_type": "code",
      "execution_count": 12,
      "metadata": {
        "id": "sjdR8fXMVy23",
        "colab": {
          "base_uri": "https://localhost:8080/",
          "height": 70
        },
        "outputId": "21459263-c62e-4da8-9675-8e631928aa83"
      },
      "outputs": [
        {
          "output_type": "execute_result",
          "data": {
            "text/plain": [
              "'N[ASN:NtermProteinFull]AVPRPKLVVGLVVDQMRWDYLYRYYSKYGEGGFKRMLNTGYSLNNVHIDYVPTVAIGHTSIFTGSVPSIHGIAGNDWYDKELGKSVYCTSDETVQPVGTTSNSVGQHSPRNLWSTTVTDQLGLATNFTSKVVGVSLKDRASILPAGHNPTGAFWFDDTTGKFITSTYYTKELPKWVNDFNNKNVPAQLVANGWNTLLPINQYTESSEDNVEWEGLLGSKKTPTFPYTDLAKDYEAKKGLIRTTPFGNTLTLQMADAAIDGNQMGVDDITDFLTVNLASTDYVGHNFGPNSIEVEDTYLRLDRDLADFFNNLDKKVGKGNYLVFLSADHGAAHSVGFMQAHKMPTGFFDMKKEMNAKLKQKFGADNIIAAAMNYQVYFDRKVLADSKLELDDVRDYVMTELKKEPSVLYVLSTDEIWESSIPEPIKSRVINGYNWKRSGDIQIISKDGYLSAYSKKGTTHSVWNSYDSHIPLLFMGWGIKQGESNQPYHMTDIAPTVSSLLKIQFPSGAVGKPITEVIG[GLY:CtermProteinFull]'"
            ],
            "application/vnd.google.colaboratory.intrinsic+json": {
              "type": "string"
            }
          },
          "metadata": {},
          "execution_count": 12
        }
      ],
      "source": [
        "pose_clean.annotated_sequence()"
      ]
    },
    {
      "cell_type": "markdown",
      "metadata": {
        "id": "fzEems93Vy24"
      },
      "source": [
        "### Exercise 1: Inspecting pose sequences\n",
        "\n",
        "Visually inspect the sequences to find the difference(s) between the `pose_clean.sequence()` and `pose.sequence()`. Were residues removed? Which ones?"
      ]
    },
    {
      "cell_type": "code",
      "execution_count": 13,
      "metadata": {
        "id": "AgYaVSDpVy24"
      },
      "outputs": [],
      "source": [
        "# No residues were removed"
      ]
    },
    {
      "cell_type": "markdown",
      "metadata": {
        "id": "cZRgXPgWVy24"
      },
      "source": [
        "### Bonus Exercise 1: Identifying differences in sequences\n",
        "\n",
        "(Optional) Write a program to automatically find the differences between these two sequences"
      ]
    },
    {
      "cell_type": "code",
      "execution_count": 14,
      "metadata": {
        "id": "hZGy7upSVy25",
        "colab": {
          "base_uri": "https://localhost:8080/"
        },
        "outputId": "e7b28816-6025-4da5-df0f-4e825b31525a"
      },
      "outputs": [
        {
          "output_type": "stream",
          "name": "stdout",
          "text": [
            "no differences between clean and unclean seq\n"
          ]
        },
        {
          "output_type": "execute_result",
          "data": {
            "text/plain": [
              "0"
            ]
          },
          "metadata": {},
          "execution_count": 14
        }
      ],
      "source": [
        "def difference(unclean, clean):\n",
        "\n",
        "  if unclean == clean:\n",
        "    print('no differences between clean and unclean seq')\n",
        "  else:\n",
        "    print('differences between clean and unclean seq:')\n",
        "    if len(clean) >= len(unclean):\n",
        "      for s in range(len(clean)):\n",
        "        if unclean[s:s+1] != clean[s:s+1]:\n",
        "          print('unclean:', unclean[s], 'clean:', clean[s])\n",
        "          print(s)\n",
        "        else:\n",
        "          continue\n",
        "    else:\n",
        "      for s in range(len(unclean)):\n",
        "        if unclean[s:s+1] != clean[s:s+1]:\n",
        "          print('unclean:', unclean[s], 'clean:', clean[s])\n",
        "          print(s)\n",
        "        else:\n",
        "          continue\n",
        "\n",
        "  return 0\n",
        "\n",
        "\n",
        "difference(pose.sequence(), pose_clean.sequence())"
      ]
    },
    {
      "cell_type": "markdown",
      "metadata": {
        "id": "EJ-17BFiVy25"
      },
      "source": [
        "# Working with Pose residues\n",
        "Keywords: total_residue(), chain(), number(), pdb2pose(), pose2pdb()"
      ]
    },
    {
      "cell_type": "code",
      "execution_count": 15,
      "metadata": {
        "id": "QS6qw8RnVy25",
        "colab": {
          "base_uri": "https://localhost:8080/"
        },
        "outputId": "6b9d955d-cf82-436f-ef08-ccb25cfb5c5f"
      },
      "outputs": [
        {
          "output_type": "stream",
          "name": "stdout",
          "text": [
            "core.import_pose.import_pose: File '5TJ3.clean.pdb' automatically determined to be of type PDB\n",
            "core.conformation.Conformation: [ WARNING ] missing heavyatom:  CG  on residue LYS 232\n",
            "core.conformation.Conformation: [ WARNING ] missing heavyatom:  CD  on residue LYS 232\n",
            "core.conformation.Conformation: [ WARNING ] missing heavyatom:  CE  on residue LYS 232\n",
            "core.conformation.Conformation: [ WARNING ] missing heavyatom:  NZ  on residue LYS 232\n",
            "core.conformation.Conformation: [ WARNING ] missing heavyatom:  CG  on residue ASP 349\n",
            "core.conformation.Conformation: [ WARNING ] missing heavyatom:  OD1 on residue ASP 349\n",
            "core.conformation.Conformation: [ WARNING ] missing heavyatom:  OD2 on residue ASP 349\n",
            "core.conformation.Conformation: [ WARNING ] missing heavyatom:  CG  on residue LYS 352\n",
            "core.conformation.Conformation: [ WARNING ] missing heavyatom:  CD  on residue LYS 352\n",
            "core.conformation.Conformation: [ WARNING ] missing heavyatom:  CE  on residue LYS 352\n",
            "core.conformation.Conformation: [ WARNING ] missing heavyatom:  NZ  on residue LYS 352\n",
            "core.conformation.Conformation: [ WARNING ] missing heavyatom:  CG  on residue GLU 353\n",
            "core.conformation.Conformation: [ WARNING ] missing heavyatom:  CD  on residue GLU 353\n",
            "core.conformation.Conformation: [ WARNING ] missing heavyatom:  OE1 on residue GLU 353\n",
            "core.conformation.Conformation: [ WARNING ] missing heavyatom:  OE2 on residue GLU 353\n",
            "core.conformation.Conformation: [ WARNING ] missing heavyatom:  CG  on residue LYS 381\n",
            "core.conformation.Conformation: [ WARNING ] missing heavyatom:  CD  on residue LYS 381\n",
            "core.conformation.Conformation: [ WARNING ] missing heavyatom:  CE  on residue LYS 381\n",
            "core.conformation.Conformation: [ WARNING ] missing heavyatom:  NZ  on residue LYS 381\n",
            "core.conformation.Conformation: [ WARNING ] missing heavyatom:  CG  on residue TYR 453\n",
            "core.conformation.Conformation: [ WARNING ] missing heavyatom:  CD1 on residue TYR 453\n",
            "core.conformation.Conformation: [ WARNING ] missing heavyatom:  CD2 on residue TYR 453\n",
            "core.conformation.Conformation: [ WARNING ] missing heavyatom:  CE1 on residue TYR 453\n",
            "core.conformation.Conformation: [ WARNING ] missing heavyatom:  CE2 on residue TYR 453\n",
            "core.conformation.Conformation: [ WARNING ] missing heavyatom:  CZ  on residue TYR 453\n",
            "core.conformation.Conformation: [ WARNING ] missing heavyatom:  OH  on residue TYR 453\n",
            "core.conformation.Conformation: [ WARNING ] missing heavyatom:  OXT on residue GLY:CtermProteinFull 519\n",
            "core.pack.pack_missing_sidechains: packing residue number 232 because of missing atom number 6 atom name  CG\n",
            "core.pack.pack_missing_sidechains: packing residue number 349 because of missing atom number 6 atom name  CG\n",
            "core.pack.pack_missing_sidechains: packing residue number 352 because of missing atom number 6 atom name  CG\n",
            "core.pack.pack_missing_sidechains: packing residue number 353 because of missing atom number 6 atom name  CG\n",
            "core.pack.pack_missing_sidechains: packing residue number 381 because of missing atom number 6 atom name  CG\n",
            "core.pack.pack_missing_sidechains: packing residue number 453 because of missing atom number 6 atom name  CG\n",
            "core.pack.task: Packer task: initialize from command line()\n",
            "core.scoring.ScoreFunctionFactory: SCOREFUNCTION: ref2015\n",
            "core.pack.pack_rotamers: built 90 rotamers at 6 positions.\n",
            "core.pack.interaction_graph.interaction_graph_factory: Instantiating DensePDInteractionGraph\n",
            "core.import_pose.import_pose: File '5TJ3.clean.pdb' automatically determined to be of type PDB\n",
            "core.conformation.Conformation: [ WARNING ] missing heavyatom:  CG  on residue LYS 232\n",
            "core.conformation.Conformation: [ WARNING ] missing heavyatom:  CD  on residue LYS 232\n",
            "core.conformation.Conformation: [ WARNING ] missing heavyatom:  CE  on residue LYS 232\n",
            "core.conformation.Conformation: [ WARNING ] missing heavyatom:  NZ  on residue LYS 232\n",
            "core.conformation.Conformation: [ WARNING ] missing heavyatom:  CG  on residue ASP 349\n",
            "core.conformation.Conformation: [ WARNING ] missing heavyatom:  OD1 on residue ASP 349\n",
            "core.conformation.Conformation: [ WARNING ] missing heavyatom:  OD2 on residue ASP 349\n",
            "core.conformation.Conformation: [ WARNING ] missing heavyatom:  CG  on residue LYS 352\n",
            "core.conformation.Conformation: [ WARNING ] missing heavyatom:  CD  on residue LYS 352\n",
            "core.conformation.Conformation: [ WARNING ] missing heavyatom:  CE  on residue LYS 352\n",
            "core.conformation.Conformation: [ WARNING ] missing heavyatom:  NZ  on residue LYS 352\n",
            "core.conformation.Conformation: [ WARNING ] missing heavyatom:  CG  on residue GLU 353\n",
            "core.conformation.Conformation: [ WARNING ] missing heavyatom:  CD  on residue GLU 353\n",
            "core.conformation.Conformation: [ WARNING ] missing heavyatom:  OE1 on residue GLU 353\n",
            "core.conformation.Conformation: [ WARNING ] missing heavyatom:  OE2 on residue GLU 353\n",
            "core.conformation.Conformation: [ WARNING ] missing heavyatom:  CG  on residue LYS 381\n",
            "core.conformation.Conformation: [ WARNING ] missing heavyatom:  CD  on residue LYS 381\n",
            "core.conformation.Conformation: [ WARNING ] missing heavyatom:  CE  on residue LYS 381\n",
            "core.conformation.Conformation: [ WARNING ] missing heavyatom:  NZ  on residue LYS 381\n",
            "core.conformation.Conformation: [ WARNING ] missing heavyatom:  CG  on residue TYR 453\n",
            "core.conformation.Conformation: [ WARNING ] missing heavyatom:  CD1 on residue TYR 453\n",
            "core.conformation.Conformation: [ WARNING ] missing heavyatom:  CD2 on residue TYR 453\n",
            "core.conformation.Conformation: [ WARNING ] missing heavyatom:  CE1 on residue TYR 453\n",
            "core.conformation.Conformation: [ WARNING ] missing heavyatom:  CE2 on residue TYR 453\n",
            "core.conformation.Conformation: [ WARNING ] missing heavyatom:  CZ  on residue TYR 453\n",
            "core.conformation.Conformation: [ WARNING ] missing heavyatom:  OH  on residue TYR 453\n",
            "core.conformation.Conformation: [ WARNING ] missing heavyatom:  OXT on residue GLY:CtermProteinFull 519\n",
            "core.pack.pack_missing_sidechains: packing residue number 232 because of missing atom number 6 atom name  CG\n",
            "core.pack.pack_missing_sidechains: packing residue number 349 because of missing atom number 6 atom name  CG\n",
            "core.pack.pack_missing_sidechains: packing residue number 352 because of missing atom number 6 atom name  CG\n",
            "core.pack.pack_missing_sidechains: packing residue number 353 because of missing atom number 6 atom name  CG\n",
            "core.pack.pack_missing_sidechains: packing residue number 381 because of missing atom number 6 atom name  CG\n",
            "core.pack.pack_missing_sidechains: packing residue number 453 because of missing atom number 6 atom name  CG\n",
            "core.pack.task: Packer task: initialize from command line()\n",
            "core.scoring.ScoreFunctionFactory: SCOREFUNCTION: ref2015\n",
            "core.pack.pack_rotamers: built 90 rotamers at 6 positions.\n",
            "core.pack.interaction_graph.interaction_graph_factory: Instantiating DensePDInteractionGraph\n"
          ]
        }
      ],
      "source": [
        "pose = pyrosetta.toolbox.pose_from_rcsb(\"5TJ3\")\n",
        "pose_clean = pose_from_pdb(\"5TJ3.clean.pdb\")"
      ]
    },
    {
      "cell_type": "markdown",
      "metadata": {
        "id": "gNye1yGfVy25"
      },
      "source": [
        "   We can use methods in `Pose` to count residues and pick out residues from the pose. Remember that `Pose` is a python class, and to access methods it implements, you need an instance of the class (here `pose` or `pose_clean`) and you then use a dot after the instance."
      ]
    },
    {
      "cell_type": "code",
      "execution_count": 16,
      "metadata": {
        "id": "AzX691qRVy26",
        "colab": {
          "base_uri": "https://localhost:8080/"
        },
        "outputId": "2edbb4a4-d755-48f3-ff08-76cd3fb52c43"
      },
      "outputs": [
        {
          "output_type": "stream",
          "name": "stdout",
          "text": [
            "519\n",
            "519\n"
          ]
        }
      ],
      "source": [
        "print(pose.total_residue())\n",
        "print(pose_clean.total_residue())\n",
        "# Did you catch all the missing residues before?"
      ]
    },
    {
      "cell_type": "markdown",
      "metadata": {
        "id": "l6-g7g2SVy26"
      },
      "source": [
        " Store the `Residue` information for residue 20 of the pose by using the `pose.residue(20)` function."
      ]
    },
    {
      "cell_type": "code",
      "execution_count": 17,
      "metadata": {
        "deletable": false,
        "id": "L817anpeVy26",
        "nbgrader": {
          "cell_type": "code",
          "checksum": "05b8fd10fd1c21fdbffacf311ee02cbc",
          "grade": true,
          "grade_id": "cell-b4a65f9eb1e72d02",
          "locked": false,
          "points": 0,
          "schema_version": 3,
          "solution": true
        },
        "colab": {
          "base_uri": "https://localhost:8080/"
        },
        "outputId": "bb168ff6-7250-4a58-8396-e55e0975e9c6"
      },
      "outputs": [
        {
          "output_type": "stream",
          "name": "stdout",
          "text": [
            "ASP\n"
          ]
        }
      ],
      "source": [
        "residue20 = pose_clean.residue(20)\n",
        "print(residue20.name())"
      ]
    },
    {
      "cell_type": "markdown",
      "metadata": {
        "id": "skgDJ5hjVy26"
      },
      "source": [
        "## Exercise 2: Residue objects\n",
        "\n",
        "Use the `pose`'s `.residue()` object to get the 24th residue of the protein pose. What is the 24th residue in the PDB file (look in the PDB file)? Are they the same residue?"
      ]
    },
    {
      "cell_type": "code",
      "execution_count": 18,
      "metadata": {
        "code_folding": [],
        "deletable": false,
        "id": "7hnz7KjgVy27",
        "nbgrader": {
          "cell_type": "code",
          "checksum": "6d95d121eddc3d59c869259e3916fded",
          "grade": true,
          "grade_id": "cell-0b423c45607a85e0",
          "locked": false,
          "points": 0,
          "schema_version": 3,
          "solution": true
        },
        "colab": {
          "base_uri": "https://localhost:8080/"
        },
        "outputId": "ad696454-9ce7-4df9-93ba-df6de20b8881"
      },
      "outputs": [
        {
          "output_type": "stream",
          "name": "stdout",
          "text": [
            "ARG\n",
            "no\n"
          ]
        }
      ],
      "source": [
        "# store the 24th residue in the pose into a variable (see residue20 example above)\n",
        "residue24 = pose_clean.residue(24)\n",
        "print(residue24.name())\n",
        "print(\"no\")"
      ]
    },
    {
      "cell_type": "code",
      "execution_count": 19,
      "metadata": {
        "code_folding": [],
        "id": "-ayeNbZDVy27",
        "colab": {
          "base_uri": "https://localhost:8080/"
        },
        "outputId": "a29f5653-0b2f-43a3-8af8-d471c9cb7365"
      },
      "outputs": [
        {
          "output_type": "execute_result",
          "data": {
            "text/plain": [
              "vector1_unsigned_long[]"
            ]
          },
          "metadata": {},
          "execution_count": 19
        }
      ],
      "source": [
        "# what other methods are attached to that Residue object? (type \"residue24.\" and hit Tab to see a list of commands)\n",
        "residue24.Haro_index()"
      ]
    },
    {
      "cell_type": "markdown",
      "metadata": {
        "id": "wJ7RT7iUVy27"
      },
      "source": [
        "We can immediately see that the numbering PyRosetta internally uses for pose residues is different from the PDB file. The information corresponding to the PDB file can be accessed through the `pose.pdb_info()` object."
      ]
    },
    {
      "cell_type": "code",
      "execution_count": 20,
      "metadata": {
        "id": "cxp7G9ubVy27",
        "colab": {
          "base_uri": "https://localhost:8080/"
        },
        "outputId": "094bd895-e3e2-4d1c-eae3-6a04739b687c"
      },
      "outputs": [
        {
          "output_type": "stream",
          "name": "stdout",
          "text": [
            "A\n",
            "47\n"
          ]
        }
      ],
      "source": [
        "print(pose_clean.pdb_info().chain(24))\n",
        "print(pose_clean.pdb_info().number(24))"
      ]
    },
    {
      "cell_type": "markdown",
      "metadata": {
        "id": "BfbvHoWtVy27"
      },
      "source": [
        "By using the `pdb2pose` method in `pdb_info()`, we can turn PDB numbering (which requires a chain ID and a residue number) into Pose numbering"
      ]
    },
    {
      "cell_type": "code",
      "execution_count": 21,
      "metadata": {
        "code_folding": [],
        "id": "ba7Q7WK-Vy28",
        "colab": {
          "base_uri": "https://localhost:8080/"
        },
        "outputId": "8b78d61e-24e4-4609-9482-44472413d764"
      },
      "outputs": [
        {
          "output_type": "stream",
          "name": "stdout",
          "text": [
            "24\n"
          ]
        }
      ],
      "source": [
        "# PDB numbering to Pose numbering\n",
        "print(pose_clean.pdb_info().pdb2pose('A', 47))"
      ]
    },
    {
      "cell_type": "markdown",
      "metadata": {
        "id": "8Kx-pCQMVy28"
      },
      "source": [
        "Use the `pose2pdb` method in `pdb_info()` to see what is the corresponding PDB chain and residue ID for pose residue number 24"
      ]
    },
    {
      "cell_type": "code",
      "execution_count": 22,
      "metadata": {
        "code_folding": [],
        "id": "DzaCmwSNVy28"
      },
      "outputs": [],
      "source": [
        "# Pose numbering to PDB numbering"
      ]
    },
    {
      "cell_type": "code",
      "execution_count": 23,
      "metadata": {
        "deletable": false,
        "id": "6nuQVjQlVy28",
        "nbgrader": {
          "cell_type": "code",
          "checksum": "309cd8a058823fe1abab7d02ee273613",
          "grade": true,
          "grade_id": "cell-eb3b845928c9313f",
          "locked": false,
          "points": 0,
          "schema_version": 3,
          "solution": true
        },
        "colab": {
          "base_uri": "https://localhost:8080/"
        },
        "outputId": "b3155255-7757-426e-d692-b2337b9a591a"
      },
      "outputs": [
        {
          "output_type": "stream",
          "name": "stdout",
          "text": [
            "47 A \n"
          ]
        }
      ],
      "source": [
        "# YOUR CODE HERE\n",
        "print(pose_clean.pdb_info().pose2pdb(24))"
      ]
    },
    {
      "cell_type": "markdown",
      "metadata": {
        "id": "19vgFWRkVy29"
      },
      "source": [
        "Now we can see how to examine the identity of a residue by PDB chain and residue number.\n",
        "\n",
        "Once we get a residue, there are various methods in the `Residue` class that might be for running analysis. We can get instances of the `Residue` class from `Pose`. For instance, we can do the following:"
      ]
    },
    {
      "cell_type": "code",
      "execution_count": 24,
      "metadata": {
        "id": "LFfsb_hWVy29",
        "colab": {
          "base_uri": "https://localhost:8080/"
        },
        "outputId": "8cd77b6d-1c05-45a7-b8a8-c9667325ec27"
      },
      "outputs": [
        {
          "output_type": "stream",
          "name": "stdout",
          "text": [
            "ARG\n",
            "True\n"
          ]
        }
      ],
      "source": [
        "res_24 = pose_clean.residue(24)\n",
        "print(res_24.name())\n",
        "print(res_24.is_charged())"
      ]
    },
    {
      "cell_type": "markdown",
      "metadata": {
        "id": "P0Eh4VR0Vy29"
      },
      "source": [
        "# Accessing PyRosetta Documentation\n",
        "Keywords: help()"
      ]
    },
    {
      "cell_type": "code",
      "execution_count": 60,
      "metadata": {
        "id": "FGsSR204Vy29",
        "colab": {
          "base_uri": "https://localhost:8080/"
        },
        "outputId": "fddcdc4c-7f80-46ce-932b-a65f15efc25d"
      },
      "outputs": [
        {
          "output_type": "stream",
          "name": "stdout",
          "text": [
            "core.import_pose.import_pose: File '5TJ3.clean.pdb' automatically determined to be of type PDB\n",
            "core.conformation.Conformation: [ WARNING ] missing heavyatom:  CG  on residue LYS 232\n",
            "core.conformation.Conformation: [ WARNING ] missing heavyatom:  CD  on residue LYS 232\n",
            "core.conformation.Conformation: [ WARNING ] missing heavyatom:  CE  on residue LYS 232\n",
            "core.conformation.Conformation: [ WARNING ] missing heavyatom:  NZ  on residue LYS 232\n",
            "core.conformation.Conformation: [ WARNING ] missing heavyatom:  CG  on residue ASP 349\n",
            "core.conformation.Conformation: [ WARNING ] missing heavyatom:  OD1 on residue ASP 349\n",
            "core.conformation.Conformation: [ WARNING ] missing heavyatom:  OD2 on residue ASP 349\n",
            "core.conformation.Conformation: [ WARNING ] missing heavyatom:  CG  on residue LYS 352\n",
            "core.conformation.Conformation: [ WARNING ] missing heavyatom:  CD  on residue LYS 352\n",
            "core.conformation.Conformation: [ WARNING ] missing heavyatom:  CE  on residue LYS 352\n",
            "core.conformation.Conformation: [ WARNING ] missing heavyatom:  NZ  on residue LYS 352\n",
            "core.conformation.Conformation: [ WARNING ] missing heavyatom:  CG  on residue GLU 353\n",
            "core.conformation.Conformation: [ WARNING ] missing heavyatom:  CD  on residue GLU 353\n",
            "core.conformation.Conformation: [ WARNING ] missing heavyatom:  OE1 on residue GLU 353\n",
            "core.conformation.Conformation: [ WARNING ] missing heavyatom:  OE2 on residue GLU 353\n",
            "core.conformation.Conformation: [ WARNING ] missing heavyatom:  CG  on residue LYS 381\n",
            "core.conformation.Conformation: [ WARNING ] missing heavyatom:  CD  on residue LYS 381\n",
            "core.conformation.Conformation: [ WARNING ] missing heavyatom:  CE  on residue LYS 381\n",
            "core.conformation.Conformation: [ WARNING ] missing heavyatom:  NZ  on residue LYS 381\n",
            "core.conformation.Conformation: [ WARNING ] missing heavyatom:  CG  on residue TYR 453\n",
            "core.conformation.Conformation: [ WARNING ] missing heavyatom:  CD1 on residue TYR 453\n",
            "core.conformation.Conformation: [ WARNING ] missing heavyatom:  CD2 on residue TYR 453\n",
            "core.conformation.Conformation: [ WARNING ] missing heavyatom:  CE1 on residue TYR 453\n",
            "core.conformation.Conformation: [ WARNING ] missing heavyatom:  CE2 on residue TYR 453\n",
            "core.conformation.Conformation: [ WARNING ] missing heavyatom:  CZ  on residue TYR 453\n",
            "core.conformation.Conformation: [ WARNING ] missing heavyatom:  OH  on residue TYR 453\n",
            "core.conformation.Conformation: [ WARNING ] missing heavyatom:  OXT on residue GLY:CtermProteinFull 519\n",
            "core.pack.pack_missing_sidechains: packing residue number 232 because of missing atom number 6 atom name  CG\n",
            "core.pack.pack_missing_sidechains: packing residue number 349 because of missing atom number 6 atom name  CG\n",
            "core.pack.pack_missing_sidechains: packing residue number 352 because of missing atom number 6 atom name  CG\n",
            "core.pack.pack_missing_sidechains: packing residue number 353 because of missing atom number 6 atom name  CG\n",
            "core.pack.pack_missing_sidechains: packing residue number 381 because of missing atom number 6 atom name  CG\n",
            "core.pack.pack_missing_sidechains: packing residue number 453 because of missing atom number 6 atom name  CG\n",
            "core.pack.task: Packer task: initialize from command line()\n",
            "core.scoring.ScoreFunctionFactory: SCOREFUNCTION: ref2015\n",
            "core.pack.pack_rotamers: built 90 rotamers at 6 positions.\n",
            "core.pack.interaction_graph.interaction_graph_factory: Instantiating DensePDInteractionGraph\n",
            "core.import_pose.import_pose: File '5TJ3.clean.pdb' automatically determined to be of type PDB\n",
            "core.conformation.Conformation: [ WARNING ] missing heavyatom:  CG  on residue LYS 232\n",
            "core.conformation.Conformation: [ WARNING ] missing heavyatom:  CD  on residue LYS 232\n",
            "core.conformation.Conformation: [ WARNING ] missing heavyatom:  CE  on residue LYS 232\n",
            "core.conformation.Conformation: [ WARNING ] missing heavyatom:  NZ  on residue LYS 232\n",
            "core.conformation.Conformation: [ WARNING ] missing heavyatom:  CG  on residue ASP 349\n",
            "core.conformation.Conformation: [ WARNING ] missing heavyatom:  OD1 on residue ASP 349\n",
            "core.conformation.Conformation: [ WARNING ] missing heavyatom:  OD2 on residue ASP 349\n",
            "core.conformation.Conformation: [ WARNING ] missing heavyatom:  CG  on residue LYS 352\n",
            "core.conformation.Conformation: [ WARNING ] missing heavyatom:  CD  on residue LYS 352\n",
            "core.conformation.Conformation: [ WARNING ] missing heavyatom:  CE  on residue LYS 352\n",
            "core.conformation.Conformation: [ WARNING ] missing heavyatom:  NZ  on residue LYS 352\n",
            "core.conformation.Conformation: [ WARNING ] missing heavyatom:  CG  on residue GLU 353\n",
            "core.conformation.Conformation: [ WARNING ] missing heavyatom:  CD  on residue GLU 353\n",
            "core.conformation.Conformation: [ WARNING ] missing heavyatom:  OE1 on residue GLU 353\n",
            "core.conformation.Conformation: [ WARNING ] missing heavyatom:  OE2 on residue GLU 353\n",
            "core.conformation.Conformation: [ WARNING ] missing heavyatom:  CG  on residue LYS 381\n",
            "core.conformation.Conformation: [ WARNING ] missing heavyatom:  CD  on residue LYS 381\n",
            "core.conformation.Conformation: [ WARNING ] missing heavyatom:  CE  on residue LYS 381\n",
            "core.conformation.Conformation: [ WARNING ] missing heavyatom:  NZ  on residue LYS 381\n",
            "core.conformation.Conformation: [ WARNING ] missing heavyatom:  CG  on residue TYR 453\n",
            "core.conformation.Conformation: [ WARNING ] missing heavyatom:  CD1 on residue TYR 453\n",
            "core.conformation.Conformation: [ WARNING ] missing heavyatom:  CD2 on residue TYR 453\n",
            "core.conformation.Conformation: [ WARNING ] missing heavyatom:  CE1 on residue TYR 453\n",
            "core.conformation.Conformation: [ WARNING ] missing heavyatom:  CE2 on residue TYR 453\n",
            "core.conformation.Conformation: [ WARNING ] missing heavyatom:  CZ  on residue TYR 453\n",
            "core.conformation.Conformation: [ WARNING ] missing heavyatom:  OH  on residue TYR 453\n",
            "core.conformation.Conformation: [ WARNING ] missing heavyatom:  OXT on residue GLY:CtermProteinFull 519\n",
            "core.pack.pack_missing_sidechains: packing residue number 232 because of missing atom number 6 atom name  CG\n",
            "core.pack.pack_missing_sidechains: packing residue number 349 because of missing atom number 6 atom name  CG\n",
            "core.pack.pack_missing_sidechains: packing residue number 352 because of missing atom number 6 atom name  CG\n",
            "core.pack.pack_missing_sidechains: packing residue number 353 because of missing atom number 6 atom name  CG\n",
            "core.pack.pack_missing_sidechains: packing residue number 381 because of missing atom number 6 atom name  CG\n",
            "core.pack.pack_missing_sidechains: packing residue number 453 because of missing atom number 6 atom name  CG\n",
            "core.pack.task: Packer task: initialize from command line()\n",
            "core.scoring.ScoreFunctionFactory: SCOREFUNCTION: ref2015\n",
            "core.pack.pack_rotamers: built 90 rotamers at 6 positions.\n",
            "core.pack.interaction_graph.interaction_graph_factory: Instantiating DensePDInteractionGraph\n"
          ]
        }
      ],
      "source": [
        "pose = pyrosetta.toolbox.pose_from_rcsb(\"5TJ3\")\n",
        "pose_clean = pose_from_pdb(\"5TJ3.clean.pdb\")"
      ]
    },
    {
      "cell_type": "markdown",
      "metadata": {
        "id": "tJGdxvFbVy2-"
      },
      "source": [
        "The full documentaton for PyRosetta can be found here: https://graylab.jhu.edu/PyRosetta.documentation/. You can use it to search for or learn more about any method in PyRosetta.\n",
        "\n",
        "One benefit of working within Jupyter notebooks is that we can make use of its autocomplete features. To see an example, try typing `res_24.is_` and pressing `tab` to find other features of residues you can examine. Note that you can scroll down to see more features."
      ]
    },
    {
      "cell_type": "code",
      "execution_count": 26,
      "metadata": {
        "id": "tAC7POVFVy2-",
        "colab": {
          "base_uri": "https://localhost:8080/"
        },
        "outputId": "7e3454ce-119a-4be1-ec49-4d3771fade43"
      },
      "outputs": [
        {
          "output_type": "execute_result",
          "data": {
            "text/plain": [
              "False"
            ]
          },
          "metadata": {},
          "execution_count": 26
        }
      ],
      "source": [
        "res_24.is_DNA()"
      ]
    },
    {
      "cell_type": "markdown",
      "metadata": {
        "id": "zBJ0TgwKVy2-"
      },
      "source": [
        "Now that we've looked through those functions, we know how to confirm that PyRosetta has loaded in the zinc ions as metal ions."
      ]
    },
    {
      "cell_type": "code",
      "execution_count": 62,
      "metadata": {
        "id": "Lu2QLQd3Vy2-",
        "colab": {
          "base_uri": "https://localhost:8080/",
          "height": 288
        },
        "outputId": "902a2d97-60df-4fd9-b977-08c2daaf2009"
      },
      "outputs": [
        {
          "output_type": "error",
          "ename": "RuntimeError",
          "evalue": "ignored",
          "traceback": [
            "\u001b[0;31m---------------------------------------------------------------------------\u001b[0m",
            "\u001b[0;31mRuntimeError\u001b[0m                              Traceback (most recent call last)",
            "\u001b[0;32m<ipython-input-62-2319e2f1e4f3>\u001b[0m in \u001b[0;36m<cell line: 2>\u001b[0;34m()\u001b[0m\n\u001b[1;32m      1\u001b[0m \u001b[0mzn_resid\u001b[0m \u001b[0;34m=\u001b[0m \u001b[0mpose_clean\u001b[0m\u001b[0;34m.\u001b[0m\u001b[0mpdb_info\u001b[0m\u001b[0;34m(\u001b[0m\u001b[0;34m)\u001b[0m\u001b[0;34m.\u001b[0m\u001b[0mpdb2pose\u001b[0m\u001b[0;34m(\u001b[0m\u001b[0;34m'A'\u001b[0m\u001b[0;34m,\u001b[0m \u001b[0;36m601\u001b[0m\u001b[0;34m)\u001b[0m\u001b[0;34m\u001b[0m\u001b[0;34m\u001b[0m\u001b[0m\n\u001b[0;32m----> 2\u001b[0;31m \u001b[0mres_zn\u001b[0m \u001b[0;34m=\u001b[0m \u001b[0mpose_clean\u001b[0m\u001b[0;34m.\u001b[0m\u001b[0mresidue\u001b[0m\u001b[0;34m(\u001b[0m\u001b[0mzn_resid\u001b[0m\u001b[0;34m)\u001b[0m\u001b[0;34m\u001b[0m\u001b[0;34m\u001b[0m\u001b[0m\n\u001b[0m\u001b[1;32m      3\u001b[0m \u001b[0mres_zn\u001b[0m\u001b[0;34m.\u001b[0m\u001b[0mis_metal\u001b[0m\u001b[0;34m(\u001b[0m\u001b[0;34m)\u001b[0m\u001b[0;34m\u001b[0m\u001b[0;34m\u001b[0m\u001b[0m\n",
            "\u001b[0;31mRuntimeError\u001b[0m: \n\nFile: /home/benchmark/rosetta/source/src/core/pose/Pose.cc:948\n[ ERROR ] UtilityExitException\nERROR: Pose::residue( Size const seqpos ): variable seqpos is out of range!\n\n"
          ]
        }
      ],
      "source": [
        "zn_resid = pose_clean.pdb_info().pdb2pose('A', 601)\n",
        "res_zn = pose_clean.residue(zn_resid)\n",
        "res_zn.is_metal()"
      ]
    },
    {
      "cell_type": "markdown",
      "metadata": {
        "id": "mx_sQmOyVy2_"
      },
      "source": [
        "## Exercise 3: Python Object Help\n",
        "We can also explore documentation for objects and methods from Jupyter notebooks. Say you wanted to find out more about the Pose object. Try typing in `Pose?`, `?Pose` or `help(Pose)`."
      ]
    },
    {
      "cell_type": "code",
      "execution_count": 30,
      "metadata": {
        "id": "27TomY_fVy2_"
      },
      "outputs": [],
      "source": [
        "Pose?"
      ]
    },
    {
      "cell_type": "markdown",
      "metadata": {
        "id": "sPel5arBVy2_"
      },
      "source": [
        "By the way, now if you ever go on to develop some PyRosetta functions, you can see the importance of docstrings!\n",
        "\n",
        "This works for PyRosetta methods as well:"
      ]
    },
    {
      "cell_type": "code",
      "execution_count": 31,
      "metadata": {
        "id": "PBCWj2VpVy2_"
      },
      "outputs": [],
      "source": [
        "res_24 = pose_clean.residue(24)\n",
        "\n",
        "# Uncomment this line:\n",
        "res_24.atom_index?"
      ]
    },
    {
      "cell_type": "markdown",
      "metadata": {
        "id": "LfcJeTT_Vy2_"
      },
      "source": [
        "## Exercise 4: Some residue commands\n",
        "\n",
        "Now use the `atom_index` method and the method below to find out whether the \"CA\" atom in res_24 is a backbone atom."
      ]
    },
    {
      "cell_type": "code",
      "execution_count": 32,
      "metadata": {
        "id": "CBeSk6vCVy3A"
      },
      "outputs": [],
      "source": [
        "# Uncomment this line:\n",
        "res_24.atom_is_backbone?"
      ]
    },
    {
      "cell_type": "code",
      "execution_count": 33,
      "metadata": {
        "deletable": false,
        "id": "IJAwOdHwVy3A",
        "nbgrader": {
          "cell_type": "code",
          "checksum": "f03a23ca93d9178f53346698802cdb63",
          "grade": true,
          "grade_id": "cell-64267b10056ef3b7",
          "locked": false,
          "points": 0,
          "schema_version": 3,
          "solution": true
        },
        "colab": {
          "base_uri": "https://localhost:8080/"
        },
        "outputId": "1dd8184d-0965-4a7a-852f-316f44c09d22"
      },
      "outputs": [
        {
          "output_type": "execute_result",
          "data": {
            "text/plain": [
              "False"
            ]
          },
          "metadata": {},
          "execution_count": 33
        }
      ],
      "source": [
        "res_24.atom_is_backbone(24)"
      ]
    },
    {
      "cell_type": "markdown",
      "metadata": {
        "id": "OeZr-2tFVy3A"
      },
      "source": [
        "# Getting spatial features from a Pose\n",
        "Keywords: conformation(), bond_length(), AtomID, atom_index()"
      ]
    },
    {
      "cell_type": "code",
      "execution_count": 35,
      "metadata": {
        "id": "FzDNEegFVy3C",
        "colab": {
          "base_uri": "https://localhost:8080/"
        },
        "outputId": "364da77c-adb1-4269-c10b-a35ea46d96be"
      },
      "outputs": [
        {
          "output_type": "stream",
          "name": "stdout",
          "text": [
            "core.import_pose.import_pose: File '5TJ3.clean.pdb' automatically determined to be of type PDB\n",
            "core.conformation.Conformation: [ WARNING ] missing heavyatom:  CG  on residue LYS 232\n",
            "core.conformation.Conformation: [ WARNING ] missing heavyatom:  CD  on residue LYS 232\n",
            "core.conformation.Conformation: [ WARNING ] missing heavyatom:  CE  on residue LYS 232\n",
            "core.conformation.Conformation: [ WARNING ] missing heavyatom:  NZ  on residue LYS 232\n",
            "core.conformation.Conformation: [ WARNING ] missing heavyatom:  CG  on residue ASP 349\n",
            "core.conformation.Conformation: [ WARNING ] missing heavyatom:  OD1 on residue ASP 349\n",
            "core.conformation.Conformation: [ WARNING ] missing heavyatom:  OD2 on residue ASP 349\n",
            "core.conformation.Conformation: [ WARNING ] missing heavyatom:  CG  on residue LYS 352\n",
            "core.conformation.Conformation: [ WARNING ] missing heavyatom:  CD  on residue LYS 352\n",
            "core.conformation.Conformation: [ WARNING ] missing heavyatom:  CE  on residue LYS 352\n",
            "core.conformation.Conformation: [ WARNING ] missing heavyatom:  NZ  on residue LYS 352\n",
            "core.conformation.Conformation: [ WARNING ] missing heavyatom:  CG  on residue GLU 353\n",
            "core.conformation.Conformation: [ WARNING ] missing heavyatom:  CD  on residue GLU 353\n",
            "core.conformation.Conformation: [ WARNING ] missing heavyatom:  OE1 on residue GLU 353\n",
            "core.conformation.Conformation: [ WARNING ] missing heavyatom:  OE2 on residue GLU 353\n",
            "core.conformation.Conformation: [ WARNING ] missing heavyatom:  CG  on residue LYS 381\n",
            "core.conformation.Conformation: [ WARNING ] missing heavyatom:  CD  on residue LYS 381\n",
            "core.conformation.Conformation: [ WARNING ] missing heavyatom:  CE  on residue LYS 381\n",
            "core.conformation.Conformation: [ WARNING ] missing heavyatom:  NZ  on residue LYS 381\n",
            "core.conformation.Conformation: [ WARNING ] missing heavyatom:  CG  on residue TYR 453\n",
            "core.conformation.Conformation: [ WARNING ] missing heavyatom:  CD1 on residue TYR 453\n",
            "core.conformation.Conformation: [ WARNING ] missing heavyatom:  CD2 on residue TYR 453\n",
            "core.conformation.Conformation: [ WARNING ] missing heavyatom:  CE1 on residue TYR 453\n",
            "core.conformation.Conformation: [ WARNING ] missing heavyatom:  CE2 on residue TYR 453\n",
            "core.conformation.Conformation: [ WARNING ] missing heavyatom:  CZ  on residue TYR 453\n",
            "core.conformation.Conformation: [ WARNING ] missing heavyatom:  OH  on residue TYR 453\n",
            "core.conformation.Conformation: [ WARNING ] missing heavyatom:  OXT on residue GLY:CtermProteinFull 519\n",
            "core.pack.pack_missing_sidechains: packing residue number 232 because of missing atom number 6 atom name  CG\n",
            "core.pack.pack_missing_sidechains: packing residue number 349 because of missing atom number 6 atom name  CG\n",
            "core.pack.pack_missing_sidechains: packing residue number 352 because of missing atom number 6 atom name  CG\n",
            "core.pack.pack_missing_sidechains: packing residue number 353 because of missing atom number 6 atom name  CG\n",
            "core.pack.pack_missing_sidechains: packing residue number 381 because of missing atom number 6 atom name  CG\n",
            "core.pack.pack_missing_sidechains: packing residue number 453 because of missing atom number 6 atom name  CG\n",
            "core.pack.task: Packer task: initialize from command line()\n",
            "core.scoring.ScoreFunctionFactory: SCOREFUNCTION: ref2015\n",
            "core.pack.pack_rotamers: built 90 rotamers at 6 positions.\n",
            "core.pack.interaction_graph.interaction_graph_factory: Instantiating DensePDInteractionGraph\n"
          ]
        }
      ],
      "source": [
        "pose = pyrosetta.toolbox.pose_from_rcsb(\"5TJ3\")\n",
        "res_24 = pose.residue(24)"
      ]
    },
    {
      "cell_type": "markdown",
      "metadata": {
        "id": "A9rRjZISVy3C"
      },
      "source": [
        "`Pose` objects make it easy to access angles, distances, and torsions for analysis. Lets take a look at how to get backbone torsions first."
      ]
    },
    {
      "cell_type": "code",
      "execution_count": 36,
      "metadata": {
        "code_folding": [],
        "deletable": false,
        "id": "QFyCCTB5Vy3D",
        "nbgrader": {
          "cell_type": "code",
          "checksum": "626165da4caae3b3fc2584be92d00fa1",
          "grade": true,
          "grade_id": "cell-515a9a625374ff39",
          "locked": false,
          "points": 0,
          "schema_version": 3,
          "solution": true
        }
      },
      "outputs": [],
      "source": [
        "resid = \"get the pose residue number for chain A:res 28 using the pdb2pose function\""
      ]
    },
    {
      "cell_type": "code",
      "execution_count": 37,
      "metadata": {
        "id": "NzL5js5mVy3D",
        "colab": {
          "base_uri": "https://localhost:8080/"
        },
        "outputId": "0d994782-93e8-459d-9052-f1c28807b3ab"
      },
      "outputs": [
        {
          "output_type": "stream",
          "name": "stdout",
          "text": [
            "phi: -59.594055168282665\n",
            "psi: -16.064025578567417\n",
            "chi1: -74.2025318771641\n"
          ]
        }
      ],
      "source": [
        "print(\"phi:\", pose.phi(24))\n",
        "print(\"psi:\", pose.psi(28))\n",
        "print(\"chi1:\", pose.chi(1, 28))"
      ]
    },
    {
      "cell_type": "markdown",
      "metadata": {
        "id": "Xqsif6i-Vy3D"
      },
      "source": [
        "Say we want to find the length of the $N$-$C_\\alpha$ and $C_\\alpha$-$C$ bonds for residue A:28 from the PDB file. We can use a couple approaches. The first involves using the bond length in the `Conformation` class, which stores some info on protein geometry. Take a look at some of the methods in the `Conformation` class using tab completion."
      ]
    },
    {
      "cell_type": "code",
      "execution_count": 38,
      "metadata": {
        "id": "wG4dqzC3Vy3E"
      },
      "outputs": [],
      "source": [
        "conformation = pose.conformation()\n",
        "# do some tab completion here to explore the Conformation class methods\n",
        "#conformation."
      ]
    },
    {
      "cell_type": "markdown",
      "metadata": {
        "id": "u7DRpOY1Vy3E"
      },
      "source": [
        "Look at the documentation for the method `conformation.bond_length` below. Remember using the `?`"
      ]
    },
    {
      "cell_type": "code",
      "execution_count": 39,
      "metadata": {
        "deletable": false,
        "id": "A8lx-iwDVy3E",
        "nbgrader": {
          "cell_type": "code",
          "checksum": "687931b5ccbbe3d5fcae8e2c46c7d5af",
          "grade": true,
          "grade_id": "cell-24f6696e51608ed9",
          "locked": false,
          "points": 0,
          "schema_version": 3,
          "solution": true
        }
      },
      "outputs": [],
      "source": [
        "conformation.bond_length?"
      ]
    },
    {
      "cell_type": "markdown",
      "metadata": {
        "id": "F13M9ycqVy3F"
      },
      "source": [
        "To use the bond_length method in the `Conformation` class, it looks like we'll need to make `AtomID` objects. We can do this using an atom index and residue ID as follows:"
      ]
    },
    {
      "cell_type": "code",
      "execution_count": 40,
      "metadata": {
        "id": "n-qupySVVy3F",
        "colab": {
          "base_uri": "https://localhost:8080/"
        },
        "outputId": "0b61ae31-42ee-40ab-e5a8-32994e040505"
      },
      "outputs": [
        {
          "output_type": "stream",
          "name": "stdout",
          "text": [
            " atomno= 0 rsd= 0 \n",
            " atomno= 1 rsd= 28   atomno= 2 rsd= 28   atomno= 3 rsd= 28 \n"
          ]
        }
      ],
      "source": [
        "# Double Check: does resid contain the Pose numbering or PDB numbering?\n",
        "# pose numbering?\n",
        "res_28 = pose.residue(28)\n",
        "N28 = AtomID(res_28.atom_index(\"N\"), 28)\n",
        "CA28 = AtomID(res_28.atom_index(\"CA\"), 28)\n",
        "C28 = AtomID(res_28.atom_index(\"C\"), 28)\n",
        "\n",
        "# try printing out an AtomID object!\n",
        "print(AtomID())\n",
        "print(N28, CA28, C28)"
      ]
    },
    {
      "cell_type": "markdown",
      "metadata": {
        "id": "BsKxm3aEVy3F"
      },
      "source": [
        "As usual, if you did not know how to construct an `AtomID`, you could check the documentation using `?AtomID`.\n",
        "\n",
        "Now we can compute the bond lengths:"
      ]
    },
    {
      "cell_type": "code",
      "execution_count": 41,
      "metadata": {
        "id": "WrdVApLaVy3G",
        "colab": {
          "base_uri": "https://localhost:8080/"
        },
        "outputId": "7cb79c0f-e976-4313-8426-cc378d541e55"
      },
      "outputs": [
        {
          "output_type": "stream",
          "name": "stdout",
          "text": [
            "1.4566739511640874\n",
            "1.5231575755646556\n"
          ]
        }
      ],
      "source": [
        "print(pose.conformation().bond_length(N28, CA28))\n",
        "print(pose.conformation().bond_length(CA28, C28))"
      ]
    },
    {
      "cell_type": "markdown",
      "metadata": {
        "id": "01xvG1DXVy3I"
      },
      "source": [
        "Alternatively, we can compute bond lengths ourselves starting from the xyz coordinates of the atoms.\n",
        "\n",
        "The method `xyz` of `Residue` returns a `Vector` class. The `Vector` class has various useful builtin methods including computing dot products, cross products, and norms. Through operator overloading in the `Vector` class, you can just subtract and add vector objects and they will manipulate the corresponding vectors appropriately."
      ]
    },
    {
      "cell_type": "code",
      "execution_count": 42,
      "metadata": {
        "id": "k-Sw4XK9Vy3I",
        "colab": {
          "base_uri": "https://localhost:8080/"
        },
        "outputId": "a7b898a7-502a-4dae-bc15-49fe9921e750"
      },
      "outputs": [
        {
          "output_type": "stream",
          "name": "stdout",
          "text": [
            "1.4566739511640874\n",
            "1.5231575755646556\n"
          ]
        }
      ],
      "source": [
        "N_xyz = res_28.xyz(\"N\")\n",
        "CA_xyz = res_28.xyz(\"CA\")\n",
        "C_xyz = res_28.xyz(\"C\")\n",
        "N_CA_vector = CA_xyz - N_xyz\n",
        "CA_C_vector = CA_xyz - C_xyz\n",
        "print(N_CA_vector.norm())\n",
        "print(CA_C_vector.norm())"
      ]
    },
    {
      "cell_type": "markdown",
      "metadata": {
        "id": "g6Z_bc6CVy3I"
      },
      "source": [
        "Thankfully, the two approaches for computing distances check out!\n",
        "\n",
        "**Note**: Not all bond lengths, angles, and torsions will be accessible using the `Conformation` object. That is because the `Conformation` object stores only the subset it needs to generate xyz locations for the atoms in the pose. The most stable way to get this information is to compute it using the xyz Cartesian coordinate vectors as a starting point."
      ]
    },
    {
      "cell_type": "markdown",
      "metadata": {
        "id": "SP0JCV-fVy3J"
      },
      "source": [
        "## References\n",
        "This notebook includes some concepts and exercises from:\n",
        "\n",
        "\"Workshop #2: PyRosetta\" in the PyRosetta workbook: https://graylab.jhu.edu/pyrosetta/downloads/documentation/pyrosetta4_online_format/PyRosetta4_Workshop2_PyRosetta.pdf\n",
        "\n",
        "\"Workshop #4.1: PyMOL_Mover\" in the PyRosetta workbook:\n",
        "http://www.pyrosetta.org/pymol_mover-tutorial"
      ]
    },
    {
      "cell_type": "markdown",
      "metadata": {
        "id": "w08ZJdoIVy3J"
      },
      "source": [
        "# Protein Geometry\n",
        "Keywords: pose_from_sequence(), bond_angle(), set_phi(), set_psi(), xyz()"
      ]
    },
    {
      "cell_type": "code",
      "execution_count": 43,
      "metadata": {
        "id": "szKDXB1kVy3J",
        "colab": {
          "base_uri": "https://localhost:8080/"
        },
        "outputId": "36490ebd-6c73-47c6-9ec0-46e34b1beb8f"
      },
      "outputs": [
        {
          "output_type": "stream",
          "name": "stdout",
          "text": [
            "PyRosetta-4 2023 [Rosetta PyRosetta4.MinSizeRel.python310.ubuntu 2023.21+release.9b3660a893207250b5c6735d08f5a4dcd45633c5 2023-05-26T08:14:51] retrieved from: http://www.pyrosetta.org\n",
            "(C) Copyright Rosetta Commons Member Institutions. Created in JHU by Sergey Lyskov and PyRosetta Team.\n",
            "core.init: Checking for fconfig files in pwd and ./rosetta/flags\n",
            "core.init: Rosetta version: PyRosetta4.MinSizeRel.python310.ubuntu r350 2023.21+release.9b3660a8932 9b3660a893207250b5c6735d08f5a4dcd45633c5 http://www.pyrosetta.org 2023-05-26T08:14:51\n",
            "core.init: command: PyRosetta -ex1 -ex2aro -database /usr/local/lib/python3.10/dist-packages/pyrosetta/database\n",
            "basic.random.init_random_generator: 'RNG device' seed mode, using '/dev/urandom', seed=-387383622 seed_offset=0 real_seed=-387383622\n",
            "basic.random.init_random_generator: RandomGenerator:init: Normal mode, seed=-387383622 RG_type=mt19937\n"
          ]
        }
      ],
      "source": [
        "from pyrosetta import *\n",
        "from pyrosetta.teaching import *\n",
        "init()"
      ]
    },
    {
      "cell_type": "code",
      "execution_count": 44,
      "metadata": {
        "id": "dZ7Xx43jVy3J",
        "colab": {
          "base_uri": "https://localhost:8080/"
        },
        "outputId": "49fde86b-fb5d-453d-9689-6ee5ae7d470c"
      },
      "outputs": [
        {
          "output_type": "stream",
          "name": "stdout",
          "text": [
            "core.import_pose.import_pose: File '5TJ3.clean.pdb' automatically determined to be of type PDB\n",
            "core.conformation.Conformation: [ WARNING ] missing heavyatom:  CG  on residue LYS 232\n",
            "core.conformation.Conformation: [ WARNING ] missing heavyatom:  CD  on residue LYS 232\n",
            "core.conformation.Conformation: [ WARNING ] missing heavyatom:  CE  on residue LYS 232\n",
            "core.conformation.Conformation: [ WARNING ] missing heavyatom:  NZ  on residue LYS 232\n",
            "core.conformation.Conformation: [ WARNING ] missing heavyatom:  CG  on residue ASP 349\n",
            "core.conformation.Conformation: [ WARNING ] missing heavyatom:  OD1 on residue ASP 349\n",
            "core.conformation.Conformation: [ WARNING ] missing heavyatom:  OD2 on residue ASP 349\n",
            "core.conformation.Conformation: [ WARNING ] missing heavyatom:  CG  on residue LYS 352\n",
            "core.conformation.Conformation: [ WARNING ] missing heavyatom:  CD  on residue LYS 352\n",
            "core.conformation.Conformation: [ WARNING ] missing heavyatom:  CE  on residue LYS 352\n",
            "core.conformation.Conformation: [ WARNING ] missing heavyatom:  NZ  on residue LYS 352\n",
            "core.conformation.Conformation: [ WARNING ] missing heavyatom:  CG  on residue GLU 353\n",
            "core.conformation.Conformation: [ WARNING ] missing heavyatom:  CD  on residue GLU 353\n",
            "core.conformation.Conformation: [ WARNING ] missing heavyatom:  OE1 on residue GLU 353\n",
            "core.conformation.Conformation: [ WARNING ] missing heavyatom:  OE2 on residue GLU 353\n",
            "core.conformation.Conformation: [ WARNING ] missing heavyatom:  CG  on residue LYS 381\n",
            "core.conformation.Conformation: [ WARNING ] missing heavyatom:  CD  on residue LYS 381\n",
            "core.conformation.Conformation: [ WARNING ] missing heavyatom:  CE  on residue LYS 381\n",
            "core.conformation.Conformation: [ WARNING ] missing heavyatom:  NZ  on residue LYS 381\n",
            "core.conformation.Conformation: [ WARNING ] missing heavyatom:  CG  on residue TYR 453\n",
            "core.conformation.Conformation: [ WARNING ] missing heavyatom:  CD1 on residue TYR 453\n",
            "core.conformation.Conformation: [ WARNING ] missing heavyatom:  CD2 on residue TYR 453\n",
            "core.conformation.Conformation: [ WARNING ] missing heavyatom:  CE1 on residue TYR 453\n",
            "core.conformation.Conformation: [ WARNING ] missing heavyatom:  CE2 on residue TYR 453\n",
            "core.conformation.Conformation: [ WARNING ] missing heavyatom:  CZ  on residue TYR 453\n",
            "core.conformation.Conformation: [ WARNING ] missing heavyatom:  OH  on residue TYR 453\n",
            "core.conformation.Conformation: [ WARNING ] missing heavyatom:  OXT on residue GLY:CtermProteinFull 519\n",
            "core.pack.pack_missing_sidechains: packing residue number 232 because of missing atom number 6 atom name  CG\n",
            "core.pack.pack_missing_sidechains: packing residue number 349 because of missing atom number 6 atom name  CG\n",
            "core.pack.pack_missing_sidechains: packing residue number 352 because of missing atom number 6 atom name  CG\n",
            "core.pack.pack_missing_sidechains: packing residue number 353 because of missing atom number 6 atom name  CG\n",
            "core.pack.pack_missing_sidechains: packing residue number 381 because of missing atom number 6 atom name  CG\n",
            "core.pack.pack_missing_sidechains: packing residue number 453 because of missing atom number 6 atom name  CG\n",
            "core.pack.task: Packer task: initialize from command line()\n",
            "core.scoring.ScoreFunctionFactory: SCOREFUNCTION: ref2015\n",
            "core.pack.pack_rotamers: built 90 rotamers at 6 positions.\n",
            "core.pack.interaction_graph.interaction_graph_factory: Instantiating DensePDInteractionGraph\n"
          ]
        }
      ],
      "source": [
        "pose = pyrosetta.toolbox.pose_from_rcsb(\"5TJ3\")\n",
        "resid = pose.pdb_info().pdb2pose('A', 28)\n",
        "res_28 = pose.residue(resid)\n",
        "N28 = AtomID(res_28.atom_index(\"N\"), resid)\n",
        "CA28 = AtomID(res_28.atom_index(\"CA\"), resid)\n",
        "C28 = AtomID(res_28.atom_index(\"C\"), resid)"
      ]
    },
    {
      "cell_type": "markdown",
      "metadata": {
        "id": "JhuPy2JDVy3K"
      },
      "source": [
        "## Rosetta Database Files\n",
        "\n",
        "Let's take a look at Rosetta's ideal values for this amino acid's bond lengths and see how these values compare. First find Pyrosetta's database directory on your computer (hint: it should have shown up when you ran `init()` at the beginning of this Jupyter notebook.)"
      ]
    },
    {
      "cell_type": "markdown",
      "metadata": {
        "id": "asll5bLeVy3K"
      },
      "source": [
        "Head to the subdirectory `chemical/residue_type_sets/fa_standard/` to find the residue you're looking at. Let's look at valine, which can be found in the `l-caa` folder, since it is a standard amino acid. The `ICOOR_INTERNAL` lines will provide torsion angles, bond angles, and bond lengths between subsequent atoms in this residue. From this you should be able to deduce Rosetta's ideal $N$-$C_\\alpha$ and $C_\\alpha$-$C$ bond lengths.\n",
        "\n",
        "These ideal values would for instance be used if we generated a new pose from an amino acid sequence. In fact, let's try that here:"
      ]
    },
    {
      "cell_type": "code",
      "execution_count": 45,
      "metadata": {
        "id": "qZCC8JpcVy3K",
        "colab": {
          "base_uri": "https://localhost:8080/"
        },
        "outputId": "6f872114-7ed6-444e-f635-7d9d23d1ee88"
      },
      "outputs": [
        {
          "output_type": "stream",
          "name": "stdout",
          "text": [
            "V\n"
          ]
        }
      ],
      "source": [
        "one_res_seq = \"V\"\n",
        "pose_one_res = pose_from_sequence(one_res_seq)\n",
        "print(pose_one_res.sequence())"
      ]
    },
    {
      "cell_type": "code",
      "execution_count": 46,
      "metadata": {
        "id": "RmGO8ZuYVy3K",
        "colab": {
          "base_uri": "https://localhost:8080/"
        },
        "outputId": "5acb7609-a1e3-476e-a447-d61eb8462ef7"
      },
      "outputs": [
        {
          "output_type": "stream",
          "name": "stdout",
          "text": [
            "1.458004\n",
            "1.52326\n"
          ]
        }
      ],
      "source": [
        "N_xyz = pose_one_res.residue(1).xyz(\"N\")\n",
        "CA_xyz = pose_one_res.residue(1).xyz(\"CA\")\n",
        "C_xyz = pose_one_res.residue(1).xyz(\"C\")\n",
        "print((CA_xyz - N_xyz).norm())\n",
        "print((CA_xyz - C_xyz).norm())"
      ]
    },
    {
      "cell_type": "markdown",
      "metadata": {
        "id": "3uXtxRr5Vy3L"
      },
      "source": [
        "Now lets figure out how to get angles in the protein. If the `Conformation` class has the angle we're looking for, we can use the AtomID objects we've already created:"
      ]
    },
    {
      "cell_type": "code",
      "execution_count": 47,
      "metadata": {
        "id": "f83gCiU9Vy3L",
        "colab": {
          "base_uri": "https://localhost:8080/"
        },
        "outputId": "2590190d-071c-4160-8da3-b07ec4eb6cc7"
      },
      "outputs": [
        {
          "output_type": "stream",
          "name": "stdout",
          "text": [
            "1.9131887665773852\n"
          ]
        }
      ],
      "source": [
        "angle = pose.conformation().bond_angle(N28, CA28, C28)\n",
        "print(angle)"
      ]
    },
    {
      "cell_type": "markdown",
      "metadata": {
        "id": "yzTPxlw1Vy3L"
      },
      "source": [
        "Notice that `.bond_angle()` gives us the angle in radians. We can compute the above angle in degrees:"
      ]
    },
    {
      "cell_type": "code",
      "execution_count": 48,
      "metadata": {
        "id": "B2dZEJ8cVy3L",
        "colab": {
          "base_uri": "https://localhost:8080/"
        },
        "outputId": "ef871ebb-dc46-4a4e-89eb-615721d5c7bf"
      },
      "outputs": [
        {
          "output_type": "execute_result",
          "data": {
            "text/plain": [
              "109.6176417367238"
            ]
          },
          "metadata": {},
          "execution_count": 48
        }
      ],
      "source": [
        "import math\n",
        "angle*180/math.pi"
      ]
    },
    {
      "cell_type": "markdown",
      "metadata": {
        "id": "avddBJZ3Vy3M"
      },
      "source": [
        "Note how this compares to the expected angle based on a tetrahedral geometry for the $C_\\alpha$ carbon."
      ]
    },
    {
      "cell_type": "markdown",
      "metadata": {
        "id": "cqSHlSQ4Vy3M"
      },
      "source": [
        "### Exercise 5: Calculating psi angle\n",
        "\n",
        "Try to calculate this angle using the xyz atom positions for N, CA, and C of residue A:28 in the protein. You can use the `Vector` function `v3 = v1.dot(v2)` along with `v1.norm()`. The vector angle between two vectors BA and BC is $\\cos^{-1}(\\frac{BA \\cdot BC}{|BA| |BC|})$."
      ]
    },
    {
      "cell_type": "code",
      "execution_count": 49,
      "metadata": {
        "id": "JHs4S4rLVy3M",
        "colab": {
          "base_uri": "https://localhost:8080/"
        },
        "outputId": "bc19a1b9-da64-47c0-f0e2-6e3bc3f01052"
      },
      "outputs": [
        {
          "output_type": "stream",
          "name": "stdout",
          "text": [
            "113.79845644479951\n"
          ]
        }
      ],
      "source": [
        "import numpy as np\n",
        "N_xyz = pose.residue(28).xyz(\"N\")\n",
        "CA_xyz = pose.residue(28).xyz(\"CA\")\n",
        "C_xyz = pose.residue(28).xyz(\"C\")\n",
        "BA = CA_xyz - N_xyz\n",
        "BC = CA_xyz - C_xyz\n",
        "print(np. arccos(BA.dot(BC) / (BA.norm()*BC.norm()))*180/math.pi)"
      ]
    },
    {
      "cell_type": "markdown",
      "metadata": {
        "id": "dYW5dXvEVy3M"
      },
      "source": [
        "## Manipulating Protein Geometry"
      ]
    },
    {
      "cell_type": "markdown",
      "metadata": {
        "id": "FPa7_a8BVy3M"
      },
      "source": [
        "We can also alter the geometry of the protein, with particular interest in manipulating the protein backbone and $\\chi$ dihedrals.\n",
        "\n",
        "### Exercise 6: Changing phi/psi angles\n",
        "\n",
        "Perform each of the following manipulations, and give the coordinates of the CB atom of Pose residue 2 afterward.\n",
        "- Set the $\\phi$ of residue 2 to -60\n",
        "- Set the $\\psi$ of residue 2 to -43"
      ]
    },
    {
      "cell_type": "code",
      "execution_count": 50,
      "metadata": {
        "deletable": false,
        "id": "RNEUua_lVy3M",
        "nbgrader": {
          "cell_type": "code",
          "checksum": "ffa61f4df7147112135f59bcf552b68b",
          "grade": true,
          "grade_id": "cell-3fca851f0347c0e2",
          "locked": false,
          "points": 0,
          "schema_version": 3,
          "solution": true
        },
        "colab": {
          "base_uri": "https://localhost:8080/"
        },
        "outputId": "59af0c8f-67fd-4f2d-a836-1134c7ebff59"
      },
      "outputs": [
        {
          "output_type": "stream",
          "name": "stdout",
          "text": [
            "original phi: 180.0\n",
            "original psi: 180.0\n",
            "3.53527,3.65904,1.19909\n"
          ]
        }
      ],
      "source": [
        "# three alanines\n",
        "tripeptide = pose_from_sequence(\"AAA\")\n",
        "\n",
        "orig_phi = tripeptide.phi(2)\n",
        "orig_psi = tripeptide.psi(2)\n",
        "print(\"original phi:\", orig_phi)\n",
        "print(\"original psi:\", orig_psi)\n",
        "\n",
        "# print the xyz coordinates of the CB atom of residue 2 here BEFORE setting\n",
        "print(tripeptide.residue(2).xyz(\"CB\"))\n"
      ]
    },
    {
      "cell_type": "code",
      "execution_count": 51,
      "metadata": {
        "deletable": false,
        "id": "tKx1WbyMVy3N",
        "nbgrader": {
          "cell_type": "code",
          "checksum": "009fba959ec661f62dd271721db1ec40",
          "grade": true,
          "grade_id": "cell-3ae37d3a46fed417",
          "locked": false,
          "points": 0,
          "schema_version": 3,
          "solution": true
        }
      },
      "outputs": [],
      "source": [
        "# set the phi and psi here\n",
        "tripeptide.set_phi(2,-60)\n",
        "tripeptide.set_psi(2, -43)\n"
      ]
    },
    {
      "cell_type": "code",
      "execution_count": 52,
      "metadata": {
        "deletable": false,
        "id": "j_4phbEVVy3N",
        "nbgrader": {
          "cell_type": "code",
          "checksum": "9db97d3045e1459fed17ac233c227afb",
          "grade": true,
          "grade_id": "cell-5d71509d56bce1ff",
          "locked": false,
          "points": 0,
          "schema_version": 3,
          "solution": true
        },
        "colab": {
          "base_uri": "https://localhost:8080/"
        },
        "outputId": "89ac4ab3-2307-47f9-cbb1-c78fa9a9cdbb"
      },
      "outputs": [
        {
          "output_type": "stream",
          "name": "stdout",
          "text": [
            "5.49854,2.67162,0.0696857\n"
          ]
        }
      ],
      "source": [
        "# print the xyz coordinates of the CB atom of residue 2 here AFTER setting\n",
        "print(tripeptide.residue(2).xyz(\"CB\"))"
      ]
    },
    {
      "cell_type": "markdown",
      "metadata": {
        "id": "BdkDofbkVy3N"
      },
      "source": [
        "By printing the pose (see below command), we can see that the whole protein is in a single chain from residue 1 to 524 (or 519, depending on if the pose was cleaned).\n",
        "\n",
        "The `FOLD_TREE` controls how changes to residue geometry propagate through the protein (left to right in the FoldTree chain.) We will go over the FoldTree in another lecture, but based on how you think perturbing the backbone of a protein structure affects the overall protein conformation, consider this question: If you changed a torsion angle for residue 5, would the Cartesian coordinaes for residue 7 change? What about the coordinates for residue 3?\n",
        "\n",
        "Try looking at the pose in PyMOL before and after you set the backbone $\\phi$ and $\\psi$ for a chosen residue."
      ]
    },
    {
      "cell_type": "code",
      "execution_count": 53,
      "metadata": {
        "id": "TQDG2bs7Vy3N",
        "colab": {
          "base_uri": "https://localhost:8080/"
        },
        "outputId": "61835ef9-89d1-4308-f72a-e28e8e8768bb"
      },
      "outputs": [
        {
          "output_type": "stream",
          "name": "stdout",
          "text": [
            "PDB file name: 5TJ3.clean.pdb\n",
            "Total residues: 519\n",
            "Sequence: NAVPRPKLVVGLVVDQMRWDYLYRYYSKYGEGGFKRMLNTGYSLNNVHIDYVPTVAIGHTSIFTGSVPSIHGIAGNDWYDKELGKSVYCTSDETVQPVGTTSNSVGQHSPRNLWSTTVTDQLGLATNFTSKVVGVSLKDRASILPAGHNPTGAFWFDDTTGKFITSTYYTKELPKWVNDFNNKNVPAQLVANGWNTLLPINQYTESSEDNVEWEGLLGSKKTPTFPYTDLAKDYEAKKGLIRTTPFGNTLTLQMADAAIDGNQMGVDDITDFLTVNLASTDYVGHNFGPNSIEVEDTYLRLDRDLADFFNNLDKKVGKGNYLVFLSADHGAAHSVGFMQAHKMPTGFFDMKKEMNAKLKQKFGADNIIAAAMNYQVYFDRKVLADSKLELDDVRDYVMTELKKEPSVLYVLSTDEIWESSIPEPIKSRVINGYNWKRSGDIQIISKDGYLSAYSKKGTTHSVWNSYDSHIPLLFMGWGIKQGESNQPYHMTDIAPTVSSLLKIQFPSGAVGKPITEVIG\n",
            "Fold tree:\n",
            "FOLD_TREE  EDGE 1 519 -1 \n"
          ]
        }
      ],
      "source": [
        "print(pose)"
      ]
    },
    {
      "cell_type": "markdown",
      "metadata": {
        "id": "cQbM59mUVy3O"
      },
      "source": [
        "# Visualization with the `PyMOL`"
      ]
    },
    {
      "cell_type": "markdown",
      "metadata": {
        "id": "BL2UkbJaVy3O"
      },
      "source": [
        "You can dump any pose into a pdb file and open it in your computer. You will use PyMOL to visualize the pose.\n",
        "```\n",
        "pose.dump_pdb(\"output_file.pdb\")\n",
        "```"
      ]
    },
    {
      "cell_type": "code",
      "execution_count": 54,
      "metadata": {
        "colab": {
          "base_uri": "https://localhost:8080/"
        },
        "id": "oLPgjV7wVy3O",
        "outputId": "bb473a63-d3be-40ae-e0ad-bc79479cee62"
      },
      "outputs": [
        {
          "output_type": "execute_result",
          "data": {
            "text/plain": [
              "True"
            ]
          },
          "metadata": {},
          "execution_count": 54
        }
      ],
      "source": [
        "pose.dump_pdb(\"changed.pdb\")"
      ]
    },
    {
      "cell_type": "markdown",
      "metadata": {
        "id": "yUlRpGj9Vy3O"
      },
      "source": [
        "If you did not properly set up PyMOL (as part of HW1), you will need to do that first.\n",
        "```"
      ]
    },
    {
      "cell_type": "markdown",
      "metadata": {
        "id": "xxTM3H-4Vy3P"
      },
      "source": [
        "PyMOL allows you to visualize the pose and perform some basic manipulations. You can also make movies of the pose as well as very nice figures.\n",
        "\n"
      ]
    },
    {
      "cell_type": "markdown",
      "metadata": {
        "id": "asLQrb4hVy3Q"
      },
      "source": [
        "Save your figures as png files and commit them to your repository."
      ]
    },
    {
      "cell_type": "markdown",
      "metadata": {
        "id": "H-Y8cvNK9WYt"
      },
      "source": [
        "What are some observations you can make from the protein structure?"
      ]
    },
    {
      "cell_type": "code",
      "execution_count": 55,
      "metadata": {
        "id": "b9dItLMJ9WYu"
      },
      "outputs": [],
      "source": [
        "# the changed protein has a more stretched out structure"
      ]
    },
    {
      "cell_type": "markdown",
      "metadata": {
        "id": "q0UjmAc1Vy3S"
      },
      "source": [
        "## Exercise 7: Visualizing changes in backbone angles"
      ]
    },
    {
      "cell_type": "markdown",
      "metadata": {
        "id": "DeYsWrSSVy3T"
      },
      "source": [
        "Use a `for` loop to change some backbone torsions (phi and psi) of `test_pose`. Be sure to `keep_history` and send to PyMOL. Try printing the $\\phi$ and $\\psi$ before and after you set it to make sure it is working as you expect."
      ]
    },
    {
      "cell_type": "code",
      "execution_count": 56,
      "metadata": {
        "id": "Khs3OZ5BVy3T"
      },
      "outputs": [],
      "source": [
        "test_pose = Pose()\n",
        "test_pose.assign(pose)\n",
        "\n",
        "# use a for loop here\n",
        "# set some phi and psi values\n",
        "# check out the different structures in PyMOL\n",
        "phi = [0, 30, 60]\n",
        "psi = [0, 30, 60]\n",
        "for i in range(len(phi)):\n",
        "  test_pose.set_phi(2, phi[i])\n",
        "  test_pose.set_psi(2, psi[i])\n",
        "  pose.dump_pdb(\"changed\"+str(i)+\".pdb\")\n"
      ]
    },
    {
      "cell_type": "markdown",
      "metadata": {
        "id": "Y6KTORIAVy3T"
      },
      "source": [
        "## Additional Exercises ##"
      ]
    },
    {
      "cell_type": "markdown",
      "metadata": {
        "id": "iztReYKqVy3T"
      },
      "source": [
        "The following exercises are meant to get you more comfortable with `Pose` methods and python coding. Many will require looping through the residues in a pose. As you find residues that answer these questions, view them in the PyMOL structure to check your work.\n",
        "\n",
        "**PyMOL Instructios:** View the original protein (5tj3) in PyMOL, view as cartoon, view Zn2+ atoms as spheres, and color the substrate mimic residue TPO distinctly (in PyMOL, try `select resn TPO`)."
      ]
    },
    {
      "cell_type": "markdown",
      "metadata": {
        "id": "kZji15FbVy3U"
      },
      "source": [
        "- Create the Ramachandran plot for the protein and compare with the [Ramachandran plot](http://kinemage.biochem.duke.edu/teaching/anatax/html/anatax.1b.html)\n",
        "from  [Richardson's Anatomy and Taxonomy of Protein Structure](http://kinemage.biochem.duke.edu/teaching/anatax/).\n",
        "\n",
        "Don't forget to label your axes!"
      ]
    },
    {
      "cell_type": "code",
      "execution_count": 57,
      "metadata": {
        "id": "fiUun7QyVy3U",
        "colab": {
          "base_uri": "https://localhost:8080/",
          "height": 489
        },
        "outputId": "8c4135f3-ac56-4ccc-8810-bd216642d98b"
      },
      "outputs": [
        {
          "output_type": "execute_result",
          "data": {
            "text/plain": [
              "Text(0.5, 1.0, 'Ramachandran Plot')"
            ]
          },
          "metadata": {},
          "execution_count": 57
        },
        {
          "output_type": "display_data",
          "data": {
            "text/plain": [
              "<Figure size 640x480 with 1 Axes>"
            ],
            "image/png": "[encoded data removed]"
          },
          "metadata": {}
        }
      ],
      "source": [
        "import matplotlib\n",
        "# this inline command gets plots to appear within the notebook\n",
        "# %matplotlib inline (Uncomment this)\n",
        "import matplotlib.pyplot as plt\n",
        "\n",
        "# example of how to make a scatter plot from a list\n",
        "# uncomment to see how it works and pops up in the notebook\n",
        "#x_coords = list(range(10))\n",
        "#y_coords = list(range(10))\n",
        "#plt.scatter(x_coords, y_coords)\n",
        "#plt.xlabel(\"X axis\")\n",
        "#plt.ylabel(\"Y axis\")\n",
        "\n",
        "psi = []\n",
        "phi = []\n",
        "# A Ramachandran plot is psi vs phi. Collect these values from the pose and plot them\n",
        "for i in range(1, pose.total_residue()+1):\n",
        "  psi.append(pose.psi(i))\n",
        "  phi.append(pose.phi(i))\n",
        "\n",
        "plt.scatter(phi, psi)\n",
        "plt.xlabel(\"phi\")\n",
        "plt.ylabel(\"psi\")\n",
        "plt.title(\"Ramachandran Plot\")"
      ]
    },
    {
      "cell_type": "markdown",
      "metadata": {
        "id": "m0usiu_gVy3U"
      },
      "source": [
        "### Analyzing Amino Acid Patterns"
      ]
    },
    {
      "cell_type": "markdown",
      "metadata": {
        "id": "K5xjDES0Vy3U"
      },
      "source": [
        "- Find all the polar amino acids in the protein. Using PyMOL, figure out where they are they located in the protein. Are there any patterns here? **Yes, seems to spaced out equally across the protein**\n",
        "\n",
        "Hint, don't type in a residue number one-by-one. Try `select resn XXX` and replace XXX with polar residue names in PyMOL"
      ]
    },
    {
      "cell_type": "markdown",
      "metadata": {
        "id": "kQoLycldVy3V"
      },
      "source": [
        "### Active Site Residues"
      ]
    },
    {
      "cell_type": "markdown",
      "metadata": {
        "id": "KDA5DeNMVy3V"
      },
      "source": [
        "- Find all residues that coordinate with the Zn2+ atoms around TPO (have any side-chain atoms within < 2.3 Angstroms). These residues may have a role in catalysis.\n",
        "\n",
        "Consider how you could loop through every atom index in a residue"
      ]
    },
    {
      "cell_type": "markdown",
      "metadata": {
        "id": "QT4xyvv-Vy3V"
      },
      "source": [
        "- Get all residue types within 8 Angstroms of the active site. Are there any patterns in terms of residue types here? **Looks like residues that are either hydrophobic or polar.**\n",
        "\n",
        "Perhaps residues with backbone atoms within 8-9 Angstroms to the Zn atoms are within the active site"
      ]
    },
    {
      "cell_type": "markdown",
      "metadata": {
        "id": "TcBFkibEVy3W"
      },
      "source": [
        "## Answers"
      ]
    },
    {
      "cell_type": "markdown",
      "metadata": {
        "id": "3EYOlwEHVy3W"
      },
      "source": [
        "### Exercise 6"
      ]
    },
    {
      "cell_type": "code",
      "execution_count": 58,
      "metadata": {
        "id": "5jQ2SPnRVy3W",
        "colab": {
          "base_uri": "https://localhost:8080/"
        },
        "outputId": "67ae6de6-e252-4d3d-a6d4-231bf71bc7f3"
      },
      "outputs": [
        {
          "output_type": "stream",
          "name": "stdout",
          "text": [
            "original phi: 180.0\n",
            "original psi: 180.0\n",
            "xyz coordinates: 3.53527,3.65904,1.19909\n",
            "new phi: -60.0\n",
            "new psi: -43.0\n",
            "xyz coordinates: 5.49854,2.67162,0.0696857\n"
          ]
        }
      ],
      "source": [
        "# three alanines\n",
        "tripeptide = pose_from_sequence(\"AAA\")\n",
        "\n",
        "orig_phi = tripeptide.phi(2)\n",
        "orig_psi = tripeptide.psi(2)\n",
        "print(\"original phi:\", orig_phi)\n",
        "print(\"original psi:\", orig_psi)\n",
        "\n",
        "# print the xyz coordinates of the CB atom of residue 2 here BEFORE setting\n",
        "print(\"xyz coordinates:\", tripeptide.residue(2).xyz(\"CB\"))\n",
        "\n",
        "# set the phi and psi here\n",
        "tripeptide.set_phi(2, -60)\n",
        "tripeptide.set_psi(2, -43)\n",
        "\n",
        "print(\"new phi:\", tripeptide.phi(2))\n",
        "print(\"new psi:\", tripeptide.psi(2))\n",
        "\n",
        "# print the xyz coordinates of the CB atom of residue 2 here AFTER setting\n",
        "print(\"xyz coordinates:\", tripeptide.residue(2).xyz(\"CB\"))\n",
        "# did changing the phi and psi angle change the xyz coordinates of the CB atom of alanine 2?\n"
      ]
    },
    {
      "cell_type": "markdown",
      "metadata": {
        "id": "_u9AN3a2Vy3W"
      },
      "source": [
        "## References\n",
        "This notebook includes some concepts and exercises from:\n",
        "\n",
        "\"Workshop #2: PyRosetta\" in the PyRosetta workbook: https://graylab.jhu.edu/pyrosetta/downloads/documentation/pyrosetta4_online_format/PyRosetta4_Workshop2_PyRosetta.pdf\n",
        "\n",
        "\"Workshop #4.1: PyMOL_Mover\" in the PyRosetta workbook:\n",
        "http://www.pyrosetta.org/pymol_mover-tutorial"
      ]
    }
  ],
  "metadata": {
    "colab": {
      "collapsed_sections": [
        "fzEems93Vy24",
        "cZRgXPgWVy24",
        "EJ-17BFiVy25",
        "skgDJ5hjVy26",
        "P0Eh4VR0Vy29",
        "mx_sQmOyVy2_",
        "LfcJeTT_Vy2_",
        "OeZr-2tFVy3A",
        "SP0JCV-fVy3J",
        "w08ZJdoIVy3J",
        "JhuPy2JDVy3K",
        "cqSHlSQ4Vy3M",
        "dYW5dXvEVy3M",
        "FPa7_a8BVy3M",
        "q0UjmAc1Vy3S",
        "Y6KTORIAVy3T",
        "m0usiu_gVy3U",
        "kQoLycldVy3V",
        "TcBFkibEVy3W",
        "3EYOlwEHVy3W",
        "_u9AN3a2Vy3W"
      ],
      "name": "Session03.01_pose_basics.ipynb",
      "provenance": []
    },
    "kernelspec": {
      "display_name": "Python 3",
      "language": "python",
      "name": "python3"
    },
    "language_info": {
      "codemirror_mode": {
        "name": "ipython",
        "version": 3
      },
      "file_extension": ".py",
      "mimetype": "text/x-python",
      "name": "python",
      "nbconvert_exporter": "python",
      "pygments_lexer": "ipython3",
      "version": "3.7.7"
    },
    "toc": {
      "base_numbering": 1,
      "nav_menu": {},
      "number_sections": true,
      "sideBar": true,
      "skip_h1_title": false,
      "title_cell": "Table of Contents",
      "title_sidebar": "Contents",
      "toc_cell": false,
      "toc_position": {},
      "toc_section_display": true,
      "toc_window_display": false
    }
  },
  "nbformat": 4,
  "nbformat_minor": 0
}